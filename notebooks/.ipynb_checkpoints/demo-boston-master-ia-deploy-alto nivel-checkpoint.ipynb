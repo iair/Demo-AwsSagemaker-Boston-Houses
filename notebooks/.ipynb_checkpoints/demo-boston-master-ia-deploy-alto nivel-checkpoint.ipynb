{
 "cells": [
  {
   "cell_type": "markdown",
   "id": "earned-budget",
   "metadata": {},
   "source": [
    "# Predecir los precios de la vivienda en Boston usando AWS Sagemaker\n",
    "\n",
    "\n",
    "## Uso de XGBoost en SageMaker (Implementar)\n",
    "\n",
    "_Programa de Nanogrado de Aprendizaje Profundo | Despliegue_\n",
    "\n",
    "---\n",
    "\n",
    "Como introducción al uso de la API de Python de alto nivel de SageMaker, veremos un problema relativamente simple. Es decir, utilizaremos el [Conjunto de datos de viviendas de Boston] (https://www.cs.toronto.edu/~delve/data/boston/bostonDetail.html) para predecir el valor medio de una casa en el área de Boston Mass.\n",
    "\n",
    "La documentación para la API de alto nivel se puede encontrar en la [página ReadTheDocs] (http://sagemaker.readthedocs.io/en/latest/)\n",
    "\n",
    "## Bosquejo general\n",
    "\n",
    "Por lo general, cuando utilice una instancia de notebook con SageMaker, seguirá los siguientes pasos. Por supuesto, no será necesario realizar todos los pasos con cada proyecto. Además, hay bastante margen de variación en muchos de los pasos, como verá a lo largo de estas lecciones.\n",
    "\n",
    "1. Descargue o recupere los datos.\n",
    "2. Procesar / preparar los datos.\n",
    "3. Cargue los datos procesados ​​en S3.\n",
    "4. Entrene un modelo elegido.\n",
    "5. Pruebe el modelo entrenado (normalmente utilizando un trabajo de transformación por lotes).\n",
    "6. Implemente el modelo entrenado.\n",
    "7. Utilice el modelo implementado.\n",
    "\n",
    "En este cuaderno nos saltaremos el paso 5, probando el modelo. Seguiremos probando el modelo, pero lo haremos implementando primero el modelo y luego enviando los datos de prueba al modelo implementado."
   ]
  },
  {
   "cell_type": "code",
   "execution_count": 1,
   "id": "short-beijing",
   "metadata": {},
   "outputs": [
    {
     "name": "stdout",
     "output_type": "stream",
     "text": [
      "Requirement already satisfied: sagemaker==2.31.1 in /home/ec2-user/anaconda3/envs/python3/lib/python3.6/site-packages (2.31.1)\n",
      "Requirement already satisfied: smdebug-rulesconfig==1.0.1 in /home/ec2-user/anaconda3/envs/python3/lib/python3.6/site-packages (from sagemaker==2.31.1) (1.0.1)\n",
      "Requirement already satisfied: pandas in /home/ec2-user/anaconda3/envs/python3/lib/python3.6/site-packages (from sagemaker==2.31.1) (1.1.5)\n",
      "Requirement already satisfied: boto3>=1.16.32 in /home/ec2-user/anaconda3/envs/python3/lib/python3.6/site-packages (from sagemaker==2.31.1) (1.17.35)\n",
      "Requirement already satisfied: numpy>=1.9.0 in /home/ec2-user/anaconda3/envs/python3/lib/python3.6/site-packages (from sagemaker==2.31.1) (1.19.5)\n",
      "Requirement already satisfied: packaging>=20.0 in /home/ec2-user/anaconda3/envs/python3/lib/python3.6/site-packages (from sagemaker==2.31.1) (20.9)\n",
      "Requirement already satisfied: importlib-metadata>=1.4.0 in /home/ec2-user/anaconda3/envs/python3/lib/python3.6/site-packages (from sagemaker==2.31.1) (3.7.0)\n",
      "Requirement already satisfied: protobuf>=3.1 in /home/ec2-user/anaconda3/envs/python3/lib/python3.6/site-packages (from sagemaker==2.31.1) (3.15.2)\n",
      "Requirement already satisfied: protobuf3-to-dict>=0.1.5 in /home/ec2-user/anaconda3/envs/python3/lib/python3.6/site-packages (from sagemaker==2.31.1) (0.1.5)\n",
      "Requirement already satisfied: google-pasta in /home/ec2-user/anaconda3/envs/python3/lib/python3.6/site-packages (from sagemaker==2.31.1) (0.2.0)\n",
      "Requirement already satisfied: attrs in /home/ec2-user/anaconda3/envs/python3/lib/python3.6/site-packages (from sagemaker==2.31.1) (20.3.0)\n",
      "Requirement already satisfied: s3transfer<0.4.0,>=0.3.0 in /home/ec2-user/anaconda3/envs/python3/lib/python3.6/site-packages (from boto3>=1.16.32->sagemaker==2.31.1) (0.3.4)\n",
      "Requirement already satisfied: jmespath<1.0.0,>=0.7.1 in /home/ec2-user/anaconda3/envs/python3/lib/python3.6/site-packages (from boto3>=1.16.32->sagemaker==2.31.1) (0.10.0)\n",
      "Requirement already satisfied: botocore<1.21.0,>=1.20.35 in /home/ec2-user/anaconda3/envs/python3/lib/python3.6/site-packages (from boto3>=1.16.32->sagemaker==2.31.1) (1.20.35)\n",
      "Requirement already satisfied: python-dateutil<3.0.0,>=2.1 in /home/ec2-user/anaconda3/envs/python3/lib/python3.6/site-packages (from botocore<1.21.0,>=1.20.35->boto3>=1.16.32->sagemaker==2.31.1) (2.8.1)\n",
      "Requirement already satisfied: urllib3<1.27,>=1.25.4 in /home/ec2-user/anaconda3/envs/python3/lib/python3.6/site-packages (from botocore<1.21.0,>=1.20.35->boto3>=1.16.32->sagemaker==2.31.1) (1.26.3)\n",
      "Requirement already satisfied: typing-extensions>=3.6.4 in /home/ec2-user/anaconda3/envs/python3/lib/python3.6/site-packages (from importlib-metadata>=1.4.0->sagemaker==2.31.1) (3.7.4.3)\n",
      "Requirement already satisfied: zipp>=0.5 in /home/ec2-user/anaconda3/envs/python3/lib/python3.6/site-packages (from importlib-metadata>=1.4.0->sagemaker==2.31.1) (3.4.0)\n",
      "Requirement already satisfied: pyparsing>=2.0.2 in /home/ec2-user/anaconda3/envs/python3/lib/python3.6/site-packages (from packaging>=20.0->sagemaker==2.31.1) (2.4.7)\n",
      "Requirement already satisfied: six>=1.9 in /home/ec2-user/anaconda3/envs/python3/lib/python3.6/site-packages (from protobuf>=3.1->sagemaker==2.31.1) (1.15.0)\n",
      "Requirement already satisfied: pytz>=2017.2 in /home/ec2-user/anaconda3/envs/python3/lib/python3.6/site-packages (from pandas->sagemaker==2.31.1) (2021.1)\n"
     ]
    }
   ],
   "source": [
    "#!pip install -U sagemaker\n",
    "# Make sure that we use SageMaker 2.x\n",
    "!pip install sagemaker==2.31.1"
   ]
  },
  {
   "cell_type": "markdown",
   "id": "hydraulic-musical",
   "metadata": {},
   "source": [
    "## Paso 0: Configurar el cuaderno\n",
    "\n",
    "Comenzamos configurando todos los paquetes necesarios para ejecutar nuestro portátil. Para comenzar, eso significa cargar todos los módulos de Python que necesitaremos."
   ]
  },
  {
   "cell_type": "code",
   "execution_count": 2,
   "id": "ready-attribute",
   "metadata": {},
   "outputs": [],
   "source": [
    "%matplotlib inline\n",
    "\n",
    "%matplotlib inline\n",
    "\n",
    "import os\n",
    "import time\n",
    "from time import gmtime, strftime\n",
    "import numpy as np\n",
    "import pandas as pd\n",
    "import matplotlib.pyplot as plt\n",
    "from sklearn.datasets import load_boston\n",
    "import sklearn.model_selection"
   ]
  },
  {
   "cell_type": "markdown",
   "id": "confirmed-vegetable",
   "metadata": {},
   "source": [
    "Además de los módulos anteriores, necesitamos importar los distintos paquetesde SageMaker que usaremos."
   ]
  },
  {
   "cell_type": "code",
   "execution_count": 3,
   "id": "legal-hands",
   "metadata": {},
   "outputs": [],
   "source": [
    "import sagemaker\n",
    "from sagemaker import get_execution_role\n",
    "from sagemaker import image_uris\n",
    "from sagemaker.predictor import csv_serializer\n",
    "import boto3\n",
    "\n",
    "# This is an object that represents the SageMaker session that we are currently operating in. This\n",
    "# object contains some useful information that we will need to access later such as our region.\n",
    "session = sagemaker.Session()\n",
    "\n",
    "# This is an object that represents the IAM role that we are currently assigned. When we construct\n",
    "# and launch the training job later we will need to tell it what IAM role it should have. Since our\n",
    "# use case is relatively simple we will simply assign the training job the role we currently have.\n",
    "role = get_execution_role()"
   ]
  },
  {
   "cell_type": "markdown",
   "id": "prerequisite-springer",
   "metadata": {},
   "source": [
    "## Paso 1: Descargar los datos\n",
    "\n",
    "Afortunadamente, este conjunto de datos se puede recuperar mediante sklearn, por lo que este paso es relativamente sencillo."
   ]
  },
  {
   "cell_type": "code",
   "execution_count": 4,
   "id": "nuclear-block",
   "metadata": {},
   "outputs": [],
   "source": [
    "boston = load_boston()"
   ]
  },
  {
   "cell_type": "markdown",
   "id": "individual-convertible",
   "metadata": {},
   "source": [
    "## Paso 2: preparar y dividir los datos\n",
    "\n",
    "Dado que se trata de datos tabulares limpios, no es necesario realizar ningún procesamiento. Sin embargo, necesitamos dividir las filas del conjunto de datos en conjuntos de entrenamiento, prueba y validación."
   ]
  },
  {
   "cell_type": "code",
   "execution_count": 5,
   "id": "metropolitan-casino",
   "metadata": {},
   "outputs": [],
   "source": [
    "# Primero empaquetamos los datos de entrada y la variable de destino (el valor mediano) como marcos de datos de pandas. Esto\n",
    "# hará que guardar los datos en un archivo sea un poco más fácil más adelante.\n",
    "\n",
    "X_bos_pd = pd.DataFrame(boston.data, columns=boston.feature_names)\n",
    "Y_bos_pd = pd.DataFrame(boston.target)\n",
    "\n",
    "# dividimos los dataset en 2/3 training y 1/3 testing sets.\n",
    "X_train, X_test, Y_train, Y_test = sklearn.model_selection.train_test_split(X_bos_pd, Y_bos_pd, test_size=0.33)\n",
    "\n",
    "# Luego dividimos el conjunto de entrenamiento en 2/3 de entrenamiento y 1/3 de conjuntos de validación.\n",
    "X_train, X_val, Y_train, Y_val = sklearn.model_selection.train_test_split(X_train, Y_train, test_size=0.33)"
   ]
  },
  {
   "cell_type": "markdown",
   "id": "scheduled-grenada",
   "metadata": {},
   "source": [
    "## Paso 3: Subir los archivos de datos a S3\n",
    "\n",
    "Cuando se construye un trabajo de entrenamiento usando SageMaker, se ejecuta un contenedor que realiza la operación de entrenamiento. Este contenedor tiene acceso a los datos almacenados en S3. Esto significa que necesitamos cargar los datos que queremos usar para entrenar a S3. Además, cuando realizamos un trabajo de transformación por lotes, SageMaker espera que los datos de entrada se almacenen en S3. Podemos usar la API de SageMaker para hacer esto y ocultar algunos de los detalles.\n",
    "\n",
    "### Guarda los datos localmente\n",
    "\n",
    "Primero necesitamos crear los archivos csv de prueba, entrenamiento y validación que luego cargaremos en S3."
   ]
  },
  {
   "cell_type": "code",
   "execution_count": 6,
   "id": "written-narrative",
   "metadata": {},
   "outputs": [],
   "source": [
    "# Nos aseguramos que exista el directorio local con la data \n",
    "data_dir = '../data/boston'\n",
    "if not os.path.exists(data_dir):\n",
    "    os.makedirs(data_dir)"
   ]
  },
  {
   "cell_type": "code",
   "execution_count": 7,
   "id": "fifteen-commissioner",
   "metadata": {},
   "outputs": [],
   "source": [
    "# Usamos pandas para guardar nuestros datos de prueba, entrenamiento y validación en archivos csv. Tenga en cuenta que nos aseguramos de no incluir el encabezado\n",
    "# información o un índice, ya que esto es requerido por los algoritmos integrados proporcionados por Amazon. \n",
    "# Además, para el tren y datos de validación, se asume que la primera entrada en cada fila es la variable objetivo.\n",
    "\n",
    "pd.concat([Y_val, X_val], axis=1).to_csv(os.path.join(data_dir, 'validation.csv'), header=False, index=False)\n",
    "pd.concat([Y_train, X_train], axis=1).to_csv(os.path.join(data_dir, 'train.csv'), header=False, index=False)"
   ]
  },
  {
   "cell_type": "markdown",
   "id": "external-motion",
   "metadata": {},
   "source": [
    "### Creamos el bucket en S3 usando este código\n",
    "\n",
    "#### no es necesario tener buckets creados previamente pero el IAM role que usas debe tener los permisos: AmazonS3FullAccess y AmazonSageMakerFullAccess"
   ]
  },
  {
   "cell_type": "code",
   "execution_count": 8,
   "id": "exempt-guinea",
   "metadata": {},
   "outputs": [],
   "source": [
    "# Aquí hago la creación del bucket en S3 con el nombre que va en la variable prefix \n",
    "# y subo al bucket los datos que tengo en la instancia de notebook (que mueren cuando elimino la instancia)\n",
    "\n",
    "prefix = 'boston-xgboost-deploy-hl'\n",
    "\n",
    "val_location = session.upload_data(os.path.join(data_dir, 'validation.csv'), key_prefix=prefix)\n",
    "train_location = session.upload_data(os.path.join(data_dir, 'train.csv'), key_prefix=prefix)"
   ]
  },
  {
   "cell_type": "markdown",
   "id": "controlled-karma",
   "metadata": {},
   "source": [
    "## Paso 4: Entrena el modelo XGBoost\n",
    "\n",
    "Ahora que tenemos los datos de entrenamiento y validación cargados en S3, podemos construir nuestro modelo XGBoost y entrenarlo. Haremos uso de la API de SageMaker de alto nivel para hacer esto, lo que hará que el código resultante sea un poco más fácil de leer a costa de cierta flexibilidad.\n",
    "\n",
    "Para construir un estimador, el objeto que deseamos entrenar, necesitamos proporcionar la ubicación de un contenedor que contiene el código de entrenamiento. Dado que estamos utilizando un algoritmo integrado, Amazon proporciona este contenedor. Sin embargo, el nombre completo del contenedor es un poco extenso y depende de la región en la que estemos operando. Afortunadamente, SageMaker proporciona un método de utilidad útil llamado `image_uris.retrieve` que construye el nombre de la imagen por nosotros.\n",
    "\n",
    "Para usar el método `image_uris.retrieve` necesitamos proporcionarle nuestra región actual, que se puede obtener del objeto de sesión, y el nombre del algoritmo que deseamos usar. En este portátil usaremos XGBoost, sin embargo, puede probar con otro algoritmo si lo desea. La lista de algoritmos integrados se puede encontrar en la lista de [Parámetros comunes] (https://docs.aws.amazon.com/sagemaker/latest/dg/sagemaker-algo-docker-registry-paths.html)."
   ]
  },
  {
   "cell_type": "markdown",
   "id": "nutritional-refrigerator",
   "metadata": {},
   "source": [
    "### Creamos el container"
   ]
  },
  {
   "cell_type": "code",
   "execution_count": 9,
   "id": "motivated-attachment",
   "metadata": {},
   "outputs": [
    {
     "data": {
      "text/plain": [
       "'811284229777.dkr.ecr.us-east-1.amazonaws.com/xgboost:1'"
      ]
     },
     "metadata": {},
     "output_type": "display_data"
    }
   ],
   "source": [
    "# We will need to know the name of the container that we want to use for training. SageMaker provides\n",
    "# a nice utility method to construct this for us.\n",
    "container = sagemaker.image_uris.retrieve('xgboost', boto3.Session().region_name, '1')\n",
    "display(container)"
   ]
  },
  {
   "cell_type": "markdown",
   "id": "hearing-guidance",
   "metadata": {},
   "source": [
    "### Seteamos los hiper-parámetros requeridos \n",
    "\n",
    "Antes de pedirle a SageMaker que comience el trabajo de entrenamiento, probablemente deberíamos establecer cualquier hiperparámetro específico del modelo. Hay bastantes que se pueden configurar cuando se usa el algoritmo XGBoost, a continuación se muestran solo algunos de ellos. Si desea cambiar los hiperparámetros a continuación o modificar otros adicionales, puede encontrar información adicional en la [página de hiperparámetros XGBoost] (https://docs.aws.amazon.com/sagemaker/latest/dg/xgboost_hyperparameters.html)"
   ]
  },
  {
   "cell_type": "code",
   "execution_count": 10,
   "id": "technological-prisoner",
   "metadata": {},
   "outputs": [],
   "source": [
    "# Ahora que sabemos qué contenedor usar, podemos construir el objeto estimador.\n",
    "xgb = sagemaker.estimator.Estimator(container, # El nombre del contenedor de entrenamiento\n",
    "                                    role,     # El rol de IAM a usar (nuestro rol actual en este caso)\n",
    "                                    instance_count=1, # La cantidad de instancias que se usarán para la capacitación.\n",
    "                                    instance_type='ml.m4.xlarge', # El tipo de instancia que se usará para el entrenamiento.\n",
    "                                    output_path='s3://{}/{}/output'.format(session.default_bucket(), prefix),\n",
    "                                                                        # Dónde guardar la salida (los artefactos del modelo)\n",
    "                                    sagemaker_session=session) # La sesión actual de SageMaker"
   ]
  },
  {
   "cell_type": "code",
   "execution_count": 11,
   "id": "induced-google",
   "metadata": {},
   "outputs": [],
   "source": [
    "xgb.set_hyperparameters(max_depth=5,\n",
    "                        eta=0.2,\n",
    "                        gamma=4,\n",
    "                        min_child_weight=6,\n",
    "                        subsample=0.8,\n",
    "                        objective='reg:linear',\n",
    "                        early_stopping_rounds=10,\n",
    "                        num_round=200)"
   ]
  },
  {
   "cell_type": "markdown",
   "id": "guided-parts",
   "metadata": {},
   "source": [
    "### Entrenamos el objeto estimador\n",
    "\n",
    "Ahora que tenemos nuestro objeto estimador completamente configurado, es hora de entrenarlo. Para hacer esto, nos aseguramos de que SageMaker sepa que nuestros datos de entrada están en formato csv y luego ejecutamos el método `fit`."
   ]
  },
  {
   "cell_type": "code",
   "execution_count": 12,
   "id": "hairy-trail",
   "metadata": {},
   "outputs": [
    {
     "name": "stdout",
     "output_type": "stream",
     "text": [
      "2021-04-26 05:40:44 Starting - Starting the training job...\n",
      "2021-04-26 05:41:07 Starting - Launching requested ML instancesProfilerReport-1619415644: InProgress\n",
      ".........\n",
      "2021-04-26 05:42:28 Starting - Preparing the instances for training......\n",
      "2021-04-26 05:43:37 Downloading - Downloading input data...\n",
      "2021-04-26 05:44:08 Training - Downloading the training image..\u001b[34mArguments: train\u001b[0m\n",
      "\u001b[34m[2021-04-26:05:44:28:INFO] Running standalone xgboost training.\u001b[0m\n",
      "\u001b[34m[2021-04-26:05:44:28:INFO] File size need to be processed in the node: 0.03mb. Available memory size in the node: 8413.7mb\u001b[0m\n",
      "\u001b[34m[2021-04-26:05:44:28:INFO] Determined delimiter of CSV input is ','\u001b[0m\n",
      "\u001b[34m[05:44:28] S3DistributionType set as FullyReplicated\u001b[0m\n",
      "\u001b[34m[05:44:28] 227x13 matrix with 2951 entries loaded from /opt/ml/input/data/train?format=csv&label_column=0&delimiter=,\u001b[0m\n",
      "\u001b[34m[2021-04-26:05:44:28:INFO] Determined delimiter of CSV input is ','\u001b[0m\n",
      "\u001b[34m[05:44:28] S3DistributionType set as FullyReplicated\u001b[0m\n",
      "\u001b[34m[05:44:28] 112x13 matrix with 1456 entries loaded from /opt/ml/input/data/validation?format=csv&label_column=0&delimiter=,\u001b[0m\n",
      "\u001b[34m[05:44:28] src/tree/updater_prune.cc:74: tree pruning end, 1 roots, 10 extra nodes, 0 pruned nodes, max_depth=3\u001b[0m\n",
      "\u001b[34m[0]#011train-rmse:19.5051#011validation-rmse:19.5495\u001b[0m\n",
      "\u001b[34mMultiple eval metrics have been passed: 'validation-rmse' will be used for early stopping.\n",
      "\u001b[0m\n",
      "\u001b[34mWill train until validation-rmse hasn't improved in 10 rounds.\u001b[0m\n",
      "\u001b[34m[05:44:28] src/tree/updater_prune.cc:74: tree pruning end, 1 roots, 12 extra nodes, 0 pruned nodes, max_depth=4\u001b[0m\n",
      "\u001b[34m[1]#011train-rmse:15.9204#011validation-rmse:16.0475\u001b[0m\n",
      "\u001b[34m[05:44:28] src/tree/updater_prune.cc:74: tree pruning end, 1 roots, 14 extra nodes, 0 pruned nodes, max_depth=4\u001b[0m\n",
      "\u001b[34m[2]#011train-rmse:13.0383#011validation-rmse:13.3066\u001b[0m\n",
      "\u001b[34m[05:44:28] src/tree/updater_prune.cc:74: tree pruning end, 1 roots, 12 extra nodes, 2 pruned nodes, max_depth=4\u001b[0m\n",
      "\u001b[34m[3]#011train-rmse:10.7778#011validation-rmse:11.176\u001b[0m\n",
      "\u001b[34m[05:44:28] src/tree/updater_prune.cc:74: tree pruning end, 1 roots, 18 extra nodes, 0 pruned nodes, max_depth=5\u001b[0m\n",
      "\u001b[34m[4]#011train-rmse:8.85018#011validation-rmse:9.50593\u001b[0m\n",
      "\u001b[34m[05:44:28] src/tree/updater_prune.cc:74: tree pruning end, 1 roots, 16 extra nodes, 2 pruned nodes, max_depth=5\u001b[0m\n",
      "\u001b[34m[5]#011train-rmse:7.34588#011validation-rmse:8.09729\u001b[0m\n",
      "\u001b[34m[05:44:28] src/tree/updater_prune.cc:74: tree pruning end, 1 roots, 20 extra nodes, 0 pruned nodes, max_depth=5\u001b[0m\n",
      "\u001b[34m[6]#011train-rmse:6.17885#011validation-rmse:7.13248\u001b[0m\n",
      "\u001b[34m[05:44:28] src/tree/updater_prune.cc:74: tree pruning end, 1 roots, 24 extra nodes, 4 pruned nodes, max_depth=5\u001b[0m\n",
      "\u001b[34m[7]#011train-rmse:5.20378#011validation-rmse:6.34108\u001b[0m\n",
      "\u001b[34m[05:44:28] src/tree/updater_prune.cc:74: tree pruning end, 1 roots, 24 extra nodes, 0 pruned nodes, max_depth=5\u001b[0m\n",
      "\u001b[34m[8]#011train-rmse:4.46161#011validation-rmse:5.77592\u001b[0m\n",
      "\u001b[34m[05:44:28] src/tree/updater_prune.cc:74: tree pruning end, 1 roots, 22 extra nodes, 6 pruned nodes, max_depth=5\u001b[0m\n",
      "\u001b[34m[9]#011train-rmse:3.83976#011validation-rmse:5.25876\u001b[0m\n",
      "\u001b[34m[05:44:28] src/tree/updater_prune.cc:74: tree pruning end, 1 roots, 24 extra nodes, 4 pruned nodes, max_depth=5\u001b[0m\n",
      "\u001b[34m[10]#011train-rmse:3.35984#011validation-rmse:4.9064\u001b[0m\n",
      "\u001b[34m[05:44:28] src/tree/updater_prune.cc:74: tree pruning end, 1 roots, 14 extra nodes, 0 pruned nodes, max_depth=5\u001b[0m\n",
      "\u001b[34m[11]#011train-rmse:3.00709#011validation-rmse:4.67802\u001b[0m\n",
      "\u001b[34m[05:44:28] src/tree/updater_prune.cc:74: tree pruning end, 1 roots, 22 extra nodes, 0 pruned nodes, max_depth=5\u001b[0m\n",
      "\u001b[34m[12]#011train-rmse:2.70257#011validation-rmse:4.46824\u001b[0m\n",
      "\u001b[34m[05:44:28] src/tree/updater_prune.cc:74: tree pruning end, 1 roots, 22 extra nodes, 2 pruned nodes, max_depth=5\u001b[0m\n",
      "\u001b[34m[13]#011train-rmse:2.47668#011validation-rmse:4.37514\u001b[0m\n",
      "\u001b[34m[05:44:28] src/tree/updater_prune.cc:74: tree pruning end, 1 roots, 26 extra nodes, 6 pruned nodes, max_depth=5\u001b[0m\n",
      "\u001b[34m[14]#011train-rmse:2.27929#011validation-rmse:4.26333\u001b[0m\n",
      "\u001b[34m[05:44:28] src/tree/updater_prune.cc:74: tree pruning end, 1 roots, 20 extra nodes, 2 pruned nodes, max_depth=5\u001b[0m\n",
      "\u001b[34m[15]#011train-rmse:2.12463#011validation-rmse:4.15181\u001b[0m\n",
      "\u001b[34m[05:44:28] src/tree/updater_prune.cc:74: tree pruning end, 1 roots, 16 extra nodes, 4 pruned nodes, max_depth=5\u001b[0m\n",
      "\u001b[34m[16]#011train-rmse:2.01372#011validation-rmse:4.06504\u001b[0m\n",
      "\u001b[34m[05:44:28] src/tree/updater_prune.cc:74: tree pruning end, 1 roots, 18 extra nodes, 2 pruned nodes, max_depth=5\u001b[0m\n",
      "\u001b[34m[17]#011train-rmse:1.91084#011validation-rmse:4.0145\u001b[0m\n",
      "\u001b[34m[05:44:28] src/tree/updater_prune.cc:74: tree pruning end, 1 roots, 18 extra nodes, 6 pruned nodes, max_depth=5\u001b[0m\n",
      "\u001b[34m[18]#011train-rmse:1.83197#011validation-rmse:3.94902\u001b[0m\n",
      "\u001b[34m[05:44:28] src/tree/updater_prune.cc:74: tree pruning end, 1 roots, 16 extra nodes, 4 pruned nodes, max_depth=5\u001b[0m\n",
      "\u001b[34m[19]#011train-rmse:1.76654#011validation-rmse:3.92745\u001b[0m\n",
      "\u001b[34m[05:44:28] src/tree/updater_prune.cc:74: tree pruning end, 1 roots, 14 extra nodes, 0 pruned nodes, max_depth=5\u001b[0m\n",
      "\u001b[34m[20]#011train-rmse:1.71368#011validation-rmse:3.87992\u001b[0m\n",
      "\u001b[34m[05:44:28] src/tree/updater_prune.cc:74: tree pruning end, 1 roots, 22 extra nodes, 2 pruned nodes, max_depth=5\u001b[0m\n",
      "\u001b[34m[21]#011train-rmse:1.64372#011validation-rmse:3.83557\u001b[0m\n",
      "\u001b[34m[05:44:28] src/tree/updater_prune.cc:74: tree pruning end, 1 roots, 20 extra nodes, 0 pruned nodes, max_depth=5\u001b[0m\n",
      "\u001b[34m[22]#011train-rmse:1.58036#011validation-rmse:3.86769\u001b[0m\n",
      "\u001b[34m[05:44:28] src/tree/updater_prune.cc:74: tree pruning end, 1 roots, 20 extra nodes, 6 pruned nodes, max_depth=5\u001b[0m\n",
      "\u001b[34m[23]#011train-rmse:1.53098#011validation-rmse:3.87636\u001b[0m\n",
      "\u001b[34m[05:44:28] src/tree/updater_prune.cc:74: tree pruning end, 1 roots, 12 extra nodes, 2 pruned nodes, max_depth=5\u001b[0m\n",
      "\u001b[34m[24]#011train-rmse:1.50791#011validation-rmse:3.85694\u001b[0m\n",
      "\u001b[34m[05:44:28] src/tree/updater_prune.cc:74: tree pruning end, 1 roots, 18 extra nodes, 0 pruned nodes, max_depth=5\u001b[0m\n",
      "\u001b[34m[25]#011train-rmse:1.45347#011validation-rmse:3.83346\u001b[0m\n",
      "\u001b[34m[05:44:28] src/tree/updater_prune.cc:74: tree pruning end, 1 roots, 14 extra nodes, 0 pruned nodes, max_depth=5\u001b[0m\n",
      "\u001b[34m[26]#011train-rmse:1.42733#011validation-rmse:3.83669\u001b[0m\n",
      "\u001b[34m[05:44:28] src/tree/updater_prune.cc:74: tree pruning end, 1 roots, 20 extra nodes, 2 pruned nodes, max_depth=5\u001b[0m\n",
      "\u001b[34m[27]#011train-rmse:1.38004#011validation-rmse:3.81385\u001b[0m\n",
      "\u001b[34m[05:44:28] src/tree/updater_prune.cc:74: tree pruning end, 1 roots, 12 extra nodes, 0 pruned nodes, max_depth=5\u001b[0m\n",
      "\u001b[34m[28]#011train-rmse:1.36103#011validation-rmse:3.79575\u001b[0m\n",
      "\u001b[34m[05:44:28] src/tree/updater_prune.cc:74: tree pruning end, 1 roots, 14 extra nodes, 8 pruned nodes, max_depth=5\u001b[0m\n",
      "\u001b[34m[29]#011train-rmse:1.31887#011validation-rmse:3.75254\u001b[0m\n",
      "\u001b[34m[05:44:28] src/tree/updater_prune.cc:74: tree pruning end, 1 roots, 14 extra nodes, 4 pruned nodes, max_depth=5\u001b[0m\n",
      "\u001b[34m[30]#011train-rmse:1.30272#011validation-rmse:3.76399\u001b[0m\n",
      "\u001b[34m[05:44:28] src/tree/updater_prune.cc:74: tree pruning end, 1 roots, 14 extra nodes, 0 pruned nodes, max_depth=5\u001b[0m\n",
      "\u001b[34m[31]#011train-rmse:1.2758#011validation-rmse:3.73757\u001b[0m\n",
      "\u001b[34m[05:44:28] src/tree/updater_prune.cc:74: tree pruning end, 1 roots, 22 extra nodes, 8 pruned nodes, max_depth=5\u001b[0m\n",
      "\u001b[34m[32]#011train-rmse:1.24493#011validation-rmse:3.74477\u001b[0m\n",
      "\u001b[34m[05:44:28] src/tree/updater_prune.cc:74: tree pruning end, 1 roots, 18 extra nodes, 4 pruned nodes, max_depth=5\u001b[0m\n",
      "\u001b[34m[33]#011train-rmse:1.20628#011validation-rmse:3.729\u001b[0m\n",
      "\u001b[34m[05:44:28] src/tree/updater_prune.cc:74: tree pruning end, 1 roots, 18 extra nodes, 2 pruned nodes, max_depth=5\u001b[0m\n",
      "\u001b[34m[34]#011train-rmse:1.18379#011validation-rmse:3.73297\u001b[0m\n",
      "\u001b[34m[05:44:28] src/tree/updater_prune.cc:74: tree pruning end, 1 roots, 10 extra nodes, 6 pruned nodes, max_depth=5\u001b[0m\n",
      "\u001b[34m[35]#011train-rmse:1.17106#011validation-rmse:3.71858\u001b[0m\n",
      "\u001b[34m[05:44:28] src/tree/updater_prune.cc:74: tree pruning end, 1 roots, 20 extra nodes, 2 pruned nodes, max_depth=5\u001b[0m\n",
      "\u001b[34m[36]#011train-rmse:1.13427#011validation-rmse:3.69517\u001b[0m\n",
      "\u001b[34m[05:44:28] src/tree/updater_prune.cc:74: tree pruning end, 1 roots, 14 extra nodes, 6 pruned nodes, max_depth=5\u001b[0m\n",
      "\u001b[34m[37]#011train-rmse:1.11851#011validation-rmse:3.70959\u001b[0m\n",
      "\u001b[34m[05:44:28] src/tree/updater_prune.cc:74: tree pruning end, 1 roots, 10 extra nodes, 8 pruned nodes, max_depth=4\u001b[0m\n",
      "\u001b[34m[38]#011train-rmse:1.10295#011validation-rmse:3.70182\u001b[0m\n",
      "\u001b[34m[05:44:28] src/tree/updater_prune.cc:74: tree pruning end, 1 roots, 10 extra nodes, 8 pruned nodes, max_depth=4\u001b[0m\n",
      "\u001b[34m[39]#011train-rmse:1.08181#011validation-rmse:3.69532\u001b[0m\n",
      "\u001b[34m[05:44:28] src/tree/updater_prune.cc:74: tree pruning end, 1 roots, 6 extra nodes, 18 pruned nodes, max_depth=3\u001b[0m\n",
      "\u001b[34m[40]#011train-rmse:1.07714#011validation-rmse:3.72366\u001b[0m\n",
      "\u001b[34m[05:44:28] src/tree/updater_prune.cc:74: tree pruning end, 1 roots, 10 extra nodes, 6 pruned nodes, max_depth=5\u001b[0m\n",
      "\u001b[34m[41]#011train-rmse:1.06355#011validation-rmse:3.7041\u001b[0m\n",
      "\u001b[34m[42]#011train-rmse:1.05167#011validation-rmse:3.69437\u001b[0m\n",
      "\u001b[34m[05:44:28] src/tree/updater_prune.cc:74: tree pruning end, 1 roots, 8 extra nodes, 6 pruned nodes, max_depth=4\u001b[0m\n",
      "\u001b[34m[05:44:28] src/tree/updater_prune.cc:74: tree pruning end, 1 roots, 12 extra nodes, 10 pruned nodes, max_depth=5\u001b[0m\n",
      "\u001b[34m[43]#011train-rmse:1.02943#011validation-rmse:3.67017\u001b[0m\n",
      "\u001b[34m[05:44:28] src/tree/updater_prune.cc:74: tree pruning end, 1 roots, 8 extra nodes, 4 pruned nodes, max_depth=4\u001b[0m\n",
      "\u001b[34m[44]#011train-rmse:1.0201#011validation-rmse:3.66293\u001b[0m\n",
      "\u001b[34m[05:44:28] src/tree/updater_prune.cc:74: tree pruning end, 1 roots, 10 extra nodes, 12 pruned nodes, max_depth=4\u001b[0m\n",
      "\u001b[34m[05:44:28] src/tree/updater_prune.cc:74: tree pruning end, 1 roots, 12 extra nodes, 18 pruned nodes, max_depth=4\u001b[0m\n",
      "\u001b[34m[45]#011train-rmse:1.00557#011validation-rmse:3.63732\u001b[0m\n",
      "\u001b[34m[46]#011train-rmse:0.988055#011validation-rmse:3.63009\u001b[0m\n",
      "\u001b[34m[05:44:28] src/tree/updater_prune.cc:74: tree pruning end, 1 roots, 0 extra nodes, 20 pruned nodes, max_depth=0\u001b[0m\n",
      "\u001b[34m[47]#011train-rmse:0.988094#011validation-rmse:3.63027\u001b[0m\n",
      "\u001b[34m[05:44:28] src/tree/updater_prune.cc:74: tree pruning end, 1 roots, 10 extra nodes, 10 pruned nodes, max_depth=4\u001b[0m\n",
      "\u001b[34m[05:44:28] src/tree/updater_prune.cc:74: tree pruning end, 1 roots, 10 extra nodes, 4 pruned nodes, max_depth=5\u001b[0m\n",
      "\u001b[34m[05:44:28] src/tree/updater_prune.cc:74: tree pruning end, 1 roots, 12 extra nodes, 16 pruned nodes, max_depth=4\u001b[0m\n",
      "\u001b[34m[48]#011train-rmse:0.97558#011validation-rmse:3.62653\u001b[0m\n",
      "\u001b[34m[49]#011train-rmse:0.963859#011validation-rmse:3.62661\u001b[0m\n",
      "\u001b[34m[50]#011train-rmse:0.944088#011validation-rmse:3.63167\u001b[0m\n",
      "\u001b[34m[51]#011train-rmse:0.935586#011validation-rmse:3.62016\u001b[0m\n",
      "\u001b[34m[05:44:28] src/tree/updater_prune.cc:74: tree pruning end, 1 roots, 10 extra nodes, 6 pruned nodes, max_depth=5\u001b[0m\n",
      "\u001b[34m[05:44:28] src/tree/updater_prune.cc:74: tree pruning end, 1 roots, 2 extra nodes, 14 pruned nodes, max_depth=1\u001b[0m\n",
      "\u001b[34m[52]#011train-rmse:0.933703#011validation-rmse:3.61253\u001b[0m\n",
      "\u001b[34m[05:44:28] src/tree/updater_prune.cc:74: tree pruning end, 1 roots, 2 extra nodes, 12 pruned nodes, max_depth=1\u001b[0m\n",
      "\u001b[34m[53]#011train-rmse:0.932285#011validation-rmse:3.6117\u001b[0m\n",
      "\u001b[34m[05:44:28] src/tree/updater_prune.cc:74: tree pruning end, 1 roots, 6 extra nodes, 12 pruned nodes, max_depth=3\u001b[0m\n",
      "\u001b[34m[05:44:28] src/tree/updater_prune.cc:74: tree pruning end, 1 roots, 6 extra nodes, 6 pruned nodes, max_depth=3\u001b[0m\n",
      "\u001b[34m[05:44:28] src/tree/updater_prune.cc:74: tree pruning end, 1 roots, 8 extra nodes, 22 pruned nodes, max_depth=4\u001b[0m\n",
      "\u001b[34m[54]#011train-rmse:0.929509#011validation-rmse:3.61821\u001b[0m\n",
      "\u001b[34m[55]#011train-rmse:0.921868#011validation-rmse:3.60454\u001b[0m\n",
      "\u001b[34m[56]#011train-rmse:0.91186#011validation-rmse:3.60635\u001b[0m\n",
      "\u001b[34m[05:44:28] src/tree/updater_prune.cc:74: tree pruning end, 1 roots, 0 extra nodes, 16 pruned nodes, max_depth=0\u001b[0m\n",
      "\u001b[34m[57]#011train-rmse:0.911888#011validation-rmse:3.6066\u001b[0m\n",
      "\u001b[34m[05:44:28] src/tree/updater_prune.cc:74: tree pruning end, 1 roots, 12 extra nodes, 16 pruned nodes, max_depth=3\u001b[0m\n",
      "\u001b[34m[58]#011train-rmse:0.898494#011validation-rmse:3.61568\u001b[0m\n",
      "\u001b[34m[05:44:28] src/tree/updater_prune.cc:74: tree pruning end, 1 roots, 10 extra nodes, 4 pruned nodes, max_depth=5\u001b[0m\n",
      "\u001b[34m[59]#011train-rmse:0.88849#011validation-rmse:3.61721\u001b[0m\n",
      "\u001b[34m[05:44:28] src/tree/updater_prune.cc:74: tree pruning end, 1 roots, 0 extra nodes, 18 pruned nodes, max_depth=0\u001b[0m\n",
      "\u001b[34m[60]#011train-rmse:0.888506#011validation-rmse:3.61765\u001b[0m\n",
      "\u001b[34m[05:44:28] src/tree/updater_prune.cc:74: tree pruning end, 1 roots, 6 extra nodes, 18 pruned nodes, max_depth=3\u001b[0m\n",
      "\u001b[34m[61]#011train-rmse:0.880683#011validation-rmse:3.61826\u001b[0m\n",
      "\u001b[34m[05:44:28] src/tree/updater_prune.cc:74: tree pruning end, 1 roots, 0 extra nodes, 28 pruned nodes, max_depth=0\u001b[0m\n",
      "\u001b[34m[05:44:28] src/tree/updater_prune.cc:74: tree pruning end, 1 roots, 0 extra nodes, 22 pruned nodes, max_depth=0\u001b[0m\n",
      "\u001b[34m[05:44:28] src/tree/updater_prune.cc:74: tree pruning end, 1 roots, 0 extra nodes, 20 pruned nodes, max_depth=0\u001b[0m\n",
      "\u001b[34m[62]#011train-rmse:0.880648#011validation-rmse:3.61765\u001b[0m\n",
      "\u001b[34m[63]#011train-rmse:0.880645#011validation-rmse:3.61777\u001b[0m\n",
      "\u001b[34m[64]#011train-rmse:0.880675#011validation-rmse:3.61737\u001b[0m\n",
      "\u001b[34m[05:44:28] src/tree/updater_prune.cc:74: tree pruning end, 1 roots, 14 extra nodes, 4 pruned nodes, max_depth=5\u001b[0m\n",
      "\u001b[34m[05:44:28] src/tree/updater_prune.cc:74: tree pruning end, 1 roots, 10 extra nodes, 12 pruned nodes, max_depth=5\u001b[0m\n",
      "\u001b[34m[05:44:28] src/tree/updater_prune.cc:74: tree pruning end, 1 roots, 6 extra nodes, 20 pruned nodes, max_depth=3\u001b[0m\n",
      "\u001b[34m[65]#011train-rmse:0.861447#011validation-rmse:3.60272\u001b[0m\n",
      "\u001b[34m[66]#011train-rmse:0.852228#011validation-rmse:3.61435\u001b[0m\n",
      "\u001b[34m[67]#011train-rmse:0.844215#011validation-rmse:3.60509\u001b[0m\n",
      "\u001b[34m[05:44:28] src/tree/updater_prune.cc:74: tree pruning end, 1 roots, 0 extra nodes, 20 pruned nodes, max_depth=0\u001b[0m\n",
      "\u001b[34m[68]#011train-rmse:0.844313#011validation-rmse:3.60465\u001b[0m\n",
      "\u001b[34m[05:44:28] src/tree/updater_prune.cc:74: tree pruning end, 1 roots, 0 extra nodes, 22 pruned nodes, max_depth=0\u001b[0m\n",
      "\u001b[34m[69]#011train-rmse:0.844235#011validation-rmse:3.60496\u001b[0m\n",
      "\u001b[34m[05:44:28] src/tree/updater_prune.cc:74: tree pruning end, 1 roots, 0 extra nodes, 22 pruned nodes, max_depth=0\u001b[0m\n",
      "\u001b[34m[70]#011train-rmse:0.844204#011validation-rmse:3.6052\u001b[0m\n",
      "\u001b[34m[05:44:28] src/tree/updater_prune.cc:74: tree pruning end, 1 roots, 0 extra nodes, 24 pruned nodes, max_depth=0\u001b[0m\n",
      "\u001b[34m[71]#011train-rmse:0.844217#011validation-rmse:3.60508\u001b[0m\n",
      "\u001b[34m[05:44:28] src/tree/updater_prune.cc:74: tree pruning end, 1 roots, 0 extra nodes, 22 pruned nodes, max_depth=0\u001b[0m\n",
      "\u001b[34m[72]#011train-rmse:0.844197#011validation-rmse:3.60535\u001b[0m\n",
      "\u001b[34m[05:44:28] src/tree/updater_prune.cc:74: tree pruning end, 1 roots, 10 extra nodes, 10 pruned nodes, max_depth=5\u001b[0m\n",
      "\u001b[34m[73]#011train-rmse:0.834042#011validation-rmse:3.60738\u001b[0m\n",
      "\u001b[34m[05:44:28] src/tree/updater_prune.cc:74: tree pruning end, 1 roots, 0 extra nodes, 26 pruned nodes, max_depth=0\u001b[0m\n",
      "\u001b[34m[74]#011train-rmse:0.834062#011validation-rmse:3.60751\u001b[0m\n",
      "\u001b[34m[75]#011train-rmse:0.834021#011validation-rmse:3.60711\u001b[0m\n",
      "\u001b[34mStopping. Best iteration:\u001b[0m\n",
      "\u001b[34m[65]#011train-rmse:0.861447#011validation-rmse:3.60272\n",
      "\u001b[0m\n",
      "\u001b[34m[05:44:28] src/tree/updater_prune.cc:74: tree pruning end, 1 roots, 0 extra nodes, 16 pruned nodes, max_depth=0\u001b[0m\n"
     ]
    },
    {
     "name": "stdout",
     "output_type": "stream",
     "text": [
      "\n",
      "2021-04-26 05:44:41 Uploading - Uploading generated training model\n",
      "2021-04-26 05:44:41 Completed - Training job completed\n",
      "Training seconds: 64\n",
      "Billable seconds: 64\n"
     ]
    }
   ],
   "source": [
    "# Este es un envoltorio sobre la ubicación de nuestro tren y los datos de validación, para asegurarse de que SageMaker\n",
    "# sabe que nuestros datos están en formato csv.\n",
    "s3_input_train = sagemaker.TrainingInput(s3_data=train_location, content_type='csv')\n",
    "s3_input_validation = sagemaker.TrainingInput(s3_data=val_location, content_type='csv')\n",
    "\n",
    "xgb.fit({'train': s3_input_train, 'validation': s3_input_validation})"
   ]
  },
  {
   "cell_type": "markdown",
   "id": "heard-michigan",
   "metadata": {},
   "source": [
    "## Paso 5: prueba el modelo entrenado\n",
    "\n",
    "Saltaremos este paso por ahora. Seguiremos probando nuestro modelo entrenado, pero lo haremos utilizando el modelo implementado, en lugar de configurar un trabajo de transformación por lotes.\n",
    "\n",
    "\n",
    "## Paso 6: Implementar el modelo entrenado\n",
    "\n",
    "Ahora que hemos ajustado nuestro modelo a los datos de entrenamiento, utilizando los datos de validación para evitar el sobreajuste, podemos implementar nuestro modelo y probarlo. La implementación es muy simple cuando usamos la API de alto nivel, solo necesitamos llamar al método `deploy` de nuestro estimador entrenado.\n",
    "\n",
    "**NOTA:** Al implementar un modelo, le está pidiendo a SageMaker que lance una instancia que esperará a que se le envíen datos. Como resultado, esta instancia continuará ejecutándose hasta que la apaguemos. Es importante saber esto, ya que el costo de un punto final implementado depende de cuánto tiempo ha estado funcionando.\n",
    "\n",
    "En otras palabras **Si ya no usas el endpoint, ¡apáguelo!**"
   ]
  },
  {
   "cell_type": "code",
   "execution_count": 13,
   "id": "induced-pressure",
   "metadata": {},
   "outputs": [
    {
     "name": "stdout",
     "output_type": "stream",
     "text": [
      "-------------!"
     ]
    }
   ],
   "source": [
    "xgb_predictor = xgb.deploy(initial_instance_count=1, instance_type='ml.m4.xlarge')"
   ]
  },
  {
   "cell_type": "markdown",
   "id": "sensitive-jamaica",
   "metadata": {},
   "source": [
    "## Paso 7: Usa el modelo\n",
    "\n",
    "Ahora que nuestro modelo está entrenado e implementado, podemos enviarle los datos de prueba y evaluar los resultados. Aquí, debido a que nuestros datos de prueba son tan pequeños, podemos enviarlos todos con una sola llamada a nuestro ednpoint. Si nuestro conjunto de datos de prueba fuera más grande, tendríamos que dividirlo y enviar los datos en trozos, asegurándonos de acumular los resultados."
   ]
  },
  {
   "cell_type": "code",
   "execution_count": 22,
   "id": "immune-principal",
   "metadata": {},
   "outputs": [
    {
     "name": "stderr",
     "output_type": "stream",
     "text": [
      "The csv_serializer has been renamed in sagemaker>=2.\n",
      "See: https://sagemaker.readthedocs.io/en/stable/v2.html for details.\n"
     ]
    }
   ],
   "source": [
    "# Necesitamos decirle al punto final en qué formato están los datos que estamos enviando\n",
    "xgb_predictor.serializer = csv_serializer\n",
    "#content_type = 'text/csv'\n",
    "\n",
    "Y_pred = xgb_predictor.predict(X_test.values).decode('utf-8')\n",
    "# predictions es actualmente una cadena delimitada por comas, por lo que nos gustaría dividirla\n",
    "# como una matriz numpy.\n",
    "Y_pred = np.fromstring(Y_pred, sep=',')"
   ]
  },
  {
   "cell_type": "markdown",
   "id": "painful-mailman",
   "metadata": {},
   "source": [
    "Para ver qué tan bien funciona nuestro modelo, podemos crear un diagrama de dispersión simple entre los valores predichos y reales. Si el modelo fuera completamente preciso, el diagrama de dispersión resultante se vería como la línea $ x = y $. Como podemos ver, nuestro modelo parece haber funcionado bien, pero hay margen de mejora."
   ]
  },
  {
   "cell_type": "code",
   "execution_count": 24,
   "id": "ceramic-modern",
   "metadata": {},
   "outputs": [
    {
     "data": {
      "text/plain": [
       "Text(0.5, 1.0, 'Median Price vs Predicted Price')"
      ]
     },
     "execution_count": 24,
     "metadata": {},
     "output_type": "execute_result"
    },
    {
     "data": {
      "image/png": "[encoded data removed]",
      "text/plain": [
       "<Figure size 432x288 with 1 Axes>"
      ]
     },
     "metadata": {
      "needs_background": "light"
     },
     "output_type": "display_data"
    }
   ],
   "source": [
    "plt.scatter(Y_test, Y_pred)\n",
    "plt.xlabel(\"Median Price\")\n",
    "plt.ylabel(\"Predicted Price\")\n",
    "plt.title(\"Median Price vs Predicted Price\")"
   ]
  },
  {
   "cell_type": "markdown",
   "id": "fossil-miller",
   "metadata": {},
   "source": [
    "## Eliminar el endpoint\n",
    "\n",
    "Dado que ya no usamos el modelo implementado, debemos asegurarnos de apagarlo. Recuerde que debe pagar por la cantidad de tiempo que su punto final está implementado, por lo que cuanto más tiempo se deja en funcionamiento, más cuesta."
   ]
  },
  {
   "cell_type": "code",
   "execution_count": 25,
   "id": "artificial-heading",
   "metadata": {},
   "outputs": [],
   "source": [
    "xgb_predictor.delete_endpoint()"
   ]
  },
  {
   "cell_type": "markdown",
   "id": "medical-citizen",
   "metadata": {},
   "source": [
    "## Opcional: Limpiar\n",
    "\n",
    "La instancia de portátil predeterminada en SageMaker no tiene mucho espacio disponible en disco. A medida que continúe completando y ejecutando cuadernos, eventualmente llenará este espacio en el disco, lo que generará errores que pueden ser difíciles de diagnosticar. Una vez que haya terminado de usar un cuaderno, es una buena idea eliminar los archivos que creó durante el proceso. Por supuesto, puede hacerlo desde el terminal o desde el concentrador del portátil si lo desea. La celda a continuación contiene algunos comandos para limpiar los archivos creados desde dentro del cuaderno."
   ]
  },
  {
   "cell_type": "code",
   "execution_count": 26,
   "id": "received-paper",
   "metadata": {},
   "outputs": [],
   "source": [
    "# First we will remove all of the files contained in the data_dir directory\n",
    "!rm $data_dir/*\n",
    "\n",
    "# And then we delete the directory itself\n",
    "!rmdir $data_dir"
   ]
  }
 ],
 "metadata": {
  "kernelspec": {
   "display_name": "conda_python3",
   "language": "python",
   "name": "conda_python3"
  },
  "language_info": {
   "codemirror_mode": {
    "name": "ipython",
    "version": 3
   },
   "file_extension": ".py",
   "mimetype": "text/x-python",
   "name": "python",
   "nbconvert_exporter": "python",
   "pygments_lexer": "ipython3",
   "version": "3.6.13"
  }
 },
 "nbformat": 4,
 "nbformat_minor": 5
}
