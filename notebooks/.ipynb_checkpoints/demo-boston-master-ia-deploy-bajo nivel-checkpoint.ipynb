{
 "cells": [
  {
   "cell_type": "markdown",
   "id": "personalized-deposit",
   "metadata": {},
   "source": [
    "# Predecir los precios de la vivienda en Boston usando AWS Sagemaker\n",
    "\n",
    "\n",
    "## Uso de XGBoost en SageMaker (Implementar)\n",
    "\n",
    "_Programa de Nanogrado de Aprendizaje Profundo | Despliegue_\n",
    "\n",
    "---\n",
    "\n",
    "Como introducción al uso de la API de Python de alto nivel de SageMaker, veremos un problema relativamente simple. Es decir, utilizaremos el [Conjunto de datos de viviendas de Boston] (https://www.cs.toronto.edu/~delve/data/boston/bostonDetail.html) para predecir el valor medio de una casa en el área de Boston Mass.\n",
    "\n",
    "La documentación para la API de alto nivel se puede encontrar en la [página ReadTheDocs] (http://sagemaker.readthedocs.io/en/latest/)\n",
    "\n",
    "## Bosquejo general\n",
    "\n",
    "Por lo general, cuando utilice una instancia de notebook con SageMaker, seguirá los siguientes pasos. Por supuesto, no será necesario realizar todos los pasos con cada proyecto. Además, hay bastante margen de variación en muchos de los pasos, como verá a lo largo de estas lecciones.\n",
    "\n",
    "1. Descargue o recupere los datos.\n",
    "2. Procesar / preparar los datos.\n",
    "3. Cargue los datos procesados ​​en S3.\n",
    "4. Entrene un modelo elegido.\n",
    "5. Pruebe el modelo entrenado (normalmente utilizando un trabajo de transformación por lotes).\n",
    "6. Implemente el modelo entrenado.\n",
    "7. Utilice el modelo implementado.\n",
    "\n",
    "En este cuaderno nos saltaremos el paso 5, probando el modelo. Seguiremos probando el modelo, pero lo haremos implementando primero el modelo y luego enviando los datos de prueba al modelo implementado."
   ]
  },
  {
   "cell_type": "code",
   "execution_count": 1,
   "id": "pointed-washer",
   "metadata": {},
   "outputs": [
    {
     "name": "stdout",
     "output_type": "stream",
     "text": [
      "Requirement already satisfied: sagemaker==2.31.1 in /home/ec2-user/anaconda3/envs/python3/lib/python3.6/site-packages (2.31.1)\n",
      "Requirement already satisfied: protobuf>=3.1 in /home/ec2-user/anaconda3/envs/python3/lib/python3.6/site-packages (from sagemaker==2.31.1) (3.15.2)\n",
      "Requirement already satisfied: protobuf3-to-dict>=0.1.5 in /home/ec2-user/anaconda3/envs/python3/lib/python3.6/site-packages (from sagemaker==2.31.1) (0.1.5)\n",
      "Requirement already satisfied: pandas in /home/ec2-user/anaconda3/envs/python3/lib/python3.6/site-packages (from sagemaker==2.31.1) (1.1.5)\n",
      "Requirement already satisfied: numpy>=1.9.0 in /home/ec2-user/anaconda3/envs/python3/lib/python3.6/site-packages (from sagemaker==2.31.1) (1.19.5)\n",
      "Requirement already satisfied: importlib-metadata>=1.4.0 in /home/ec2-user/anaconda3/envs/python3/lib/python3.6/site-packages (from sagemaker==2.31.1) (3.7.0)\n",
      "Requirement already satisfied: google-pasta in /home/ec2-user/anaconda3/envs/python3/lib/python3.6/site-packages (from sagemaker==2.31.1) (0.2.0)\n",
      "Requirement already satisfied: packaging>=20.0 in /home/ec2-user/anaconda3/envs/python3/lib/python3.6/site-packages (from sagemaker==2.31.1) (20.9)\n",
      "Requirement already satisfied: attrs in /home/ec2-user/anaconda3/envs/python3/lib/python3.6/site-packages (from sagemaker==2.31.1) (20.3.0)\n",
      "Requirement already satisfied: boto3>=1.16.32 in /home/ec2-user/anaconda3/envs/python3/lib/python3.6/site-packages (from sagemaker==2.31.1) (1.17.35)\n",
      "Requirement already satisfied: smdebug-rulesconfig==1.0.1 in /home/ec2-user/anaconda3/envs/python3/lib/python3.6/site-packages (from sagemaker==2.31.1) (1.0.1)\n",
      "Requirement already satisfied: botocore<1.21.0,>=1.20.35 in /home/ec2-user/anaconda3/envs/python3/lib/python3.6/site-packages (from boto3>=1.16.32->sagemaker==2.31.1) (1.20.35)\n",
      "Requirement already satisfied: s3transfer<0.4.0,>=0.3.0 in /home/ec2-user/anaconda3/envs/python3/lib/python3.6/site-packages (from boto3>=1.16.32->sagemaker==2.31.1) (0.3.4)\n",
      "Requirement already satisfied: jmespath<1.0.0,>=0.7.1 in /home/ec2-user/anaconda3/envs/python3/lib/python3.6/site-packages (from boto3>=1.16.32->sagemaker==2.31.1) (0.10.0)\n",
      "Requirement already satisfied: python-dateutil<3.0.0,>=2.1 in /home/ec2-user/anaconda3/envs/python3/lib/python3.6/site-packages (from botocore<1.21.0,>=1.20.35->boto3>=1.16.32->sagemaker==2.31.1) (2.8.1)\n",
      "Requirement already satisfied: urllib3<1.27,>=1.25.4 in /home/ec2-user/anaconda3/envs/python3/lib/python3.6/site-packages (from botocore<1.21.0,>=1.20.35->boto3>=1.16.32->sagemaker==2.31.1) (1.26.3)\n",
      "Requirement already satisfied: typing-extensions>=3.6.4 in /home/ec2-user/anaconda3/envs/python3/lib/python3.6/site-packages (from importlib-metadata>=1.4.0->sagemaker==2.31.1) (3.7.4.3)\n",
      "Requirement already satisfied: zipp>=0.5 in /home/ec2-user/anaconda3/envs/python3/lib/python3.6/site-packages (from importlib-metadata>=1.4.0->sagemaker==2.31.1) (3.4.0)\n",
      "Requirement already satisfied: pyparsing>=2.0.2 in /home/ec2-user/anaconda3/envs/python3/lib/python3.6/site-packages (from packaging>=20.0->sagemaker==2.31.1) (2.4.7)\n",
      "Requirement already satisfied: six>=1.9 in /home/ec2-user/anaconda3/envs/python3/lib/python3.6/site-packages (from protobuf>=3.1->sagemaker==2.31.1) (1.15.0)\n",
      "Requirement already satisfied: pytz>=2017.2 in /home/ec2-user/anaconda3/envs/python3/lib/python3.6/site-packages (from pandas->sagemaker==2.31.1) (2021.1)\n"
     ]
    }
   ],
   "source": [
    "#!pip install -U sagemaker\n",
    "# Make sure that we use SageMaker 2.x\n",
    "!pip install sagemaker==2.31.1"
   ]
  },
  {
   "cell_type": "markdown",
   "id": "specified-puppy",
   "metadata": {},
   "source": [
    "## Paso 0: Configurar el cuaderno\n",
    "\n",
    "Comenzamos configurando todos los paquetes necesarios para ejecutar nuestro portátil. Para comenzar, eso significa cargar todos los módulos de Python que necesitaremos."
   ]
  },
  {
   "cell_type": "code",
   "execution_count": 2,
   "id": "lightweight-boards",
   "metadata": {},
   "outputs": [],
   "source": [
    "%matplotlib inline\n",
    "\n",
    "%matplotlib inline\n",
    "\n",
    "import os\n",
    "import time\n",
    "from time import gmtime, strftime\n",
    "import numpy as np\n",
    "import pandas as pd\n",
    "import matplotlib.pyplot as plt\n",
    "from sklearn.datasets import load_boston\n",
    "import sklearn.model_selection"
   ]
  },
  {
   "cell_type": "markdown",
   "id": "danish-prague",
   "metadata": {},
   "source": [
    "Además de los módulos anteriores, necesitamos importar los distintos paquetesde SageMaker que usaremos."
   ]
  },
  {
   "cell_type": "code",
   "execution_count": 3,
   "id": "based-socket",
   "metadata": {},
   "outputs": [],
   "source": [
    "import sagemaker\n",
    "from sagemaker import get_execution_role\n",
    "from sagemaker import image_uris\n",
    "from sagemaker.predictor import csv_serializer\n",
    "import boto3\n",
    "\n",
    "# This is an object that represents the SageMaker session that we are currently operating in. This\n",
    "# object contains some useful information that we will need to access later such as our region.\n",
    "session = sagemaker.Session()\n",
    "\n",
    "# This is an object that represents the IAM role that we are currently assigned. When we construct\n",
    "# and launch the training job later we will need to tell it what IAM role it should have. Since our\n",
    "# use case is relatively simple we will simply assign the training job the role we currently have.\n",
    "role = get_execution_role()"
   ]
  },
  {
   "cell_type": "markdown",
   "id": "introductory-lambda",
   "metadata": {},
   "source": [
    "## Paso 1: Descargar los datos\n",
    "\n",
    "Afortunadamente, este conjunto de datos se puede recuperar mediante sklearn, por lo que este paso es relativamente sencillo."
   ]
  },
  {
   "cell_type": "code",
   "execution_count": 4,
   "id": "productive-matthew",
   "metadata": {},
   "outputs": [],
   "source": [
    "boston = load_boston()"
   ]
  },
  {
   "cell_type": "markdown",
   "id": "macro-place",
   "metadata": {},
   "source": [
    "## Paso 2: preparar y dividir los datos\n",
    "\n",
    "Dado que se trata de datos tabulares limpios, no es necesario realizar ningún procesamiento. Sin embargo, necesitamos dividir las filas del conjunto de datos en conjuntos de entrenamiento, prueba y validación."
   ]
  },
  {
   "cell_type": "code",
   "execution_count": 5,
   "id": "sealed-finnish",
   "metadata": {},
   "outputs": [],
   "source": [
    "# Primero empaquetamos los datos de entrada y la variable de destino (el valor mediano) como marcos de datos de pandas. Esto\n",
    "# hará que guardar los datos en un archivo sea un poco más fácil más adelante.\n",
    "\n",
    "X_bos_pd = pd.DataFrame(boston.data, columns=boston.feature_names)\n",
    "Y_bos_pd = pd.DataFrame(boston.target)\n",
    "\n",
    "# dividimos los dataset en 2/3 training y 1/3 testing sets.\n",
    "X_train, X_test, Y_train, Y_test = sklearn.model_selection.train_test_split(X_bos_pd, Y_bos_pd, test_size=0.33)\n",
    "\n",
    "# Luego dividimos el conjunto de entrenamiento en 2/3 de entrenamiento y 1/3 de conjuntos de validación.\n",
    "X_train, X_val, Y_train, Y_val = sklearn.model_selection.train_test_split(X_train, Y_train, test_size=0.33)"
   ]
  },
  {
   "cell_type": "markdown",
   "id": "honest-norfolk",
   "metadata": {},
   "source": [
    "## Paso 3: Subir los archivos de datos a S3\n",
    "\n",
    "Cuando se construye un trabajo de entrenamiento usando SageMaker, se ejecuta un contenedor que realiza la operación de entrenamiento. Este contenedor tiene acceso a los datos almacenados en S3. Esto significa que necesitamos cargar los datos que queremos usar para entrenar a S3. Además, cuando realizamos un trabajo de transformación por lotes, SageMaker espera que los datos de entrada se almacenen en S3. Podemos usar la API de SageMaker para hacer esto y ocultar algunos de los detalles.\n",
    "\n",
    "### Guarda los datos localmente\n",
    "\n",
    "Primero necesitamos crear los archivos csv de prueba, entrenamiento y validación que luego cargaremos en S3."
   ]
  },
  {
   "cell_type": "code",
   "execution_count": 6,
   "id": "hawaiian-daughter",
   "metadata": {},
   "outputs": [],
   "source": [
    "# Nos aseguramos que exista el directorio local con la data \n",
    "data_dir = '../data/boston'\n",
    "if not os.path.exists(data_dir):\n",
    "    os.makedirs(data_dir)"
   ]
  },
  {
   "cell_type": "code",
   "execution_count": 7,
   "id": "incorporated-grounds",
   "metadata": {},
   "outputs": [],
   "source": [
    "# Usamos pandas para guardar nuestros datos de prueba, entrenamiento y validación en archivos csv. \n",
    "# Tenga en cuenta que nos aseguramos de no incluir el encabezado\n",
    "# información o un índice, ya que esto es requerido por los algoritmos integrados proporcionados por Amazon. \n",
    "# Además, para el tren y datos de validación, se asume que la primera entrada en cada fila es la variable objetivo.\n",
    "\n",
    "pd.concat([Y_val, X_val], axis=1).to_csv(os.path.join(data_dir, 'validation.csv'), header=False, index=False)\n",
    "pd.concat([Y_train, X_train], axis=1).to_csv(os.path.join(data_dir, 'train.csv'), header=False, index=False)"
   ]
  },
  {
   "cell_type": "markdown",
   "id": "proprietary-clear",
   "metadata": {},
   "source": [
    "### Creamos el bucket en S3 usando este código\n",
    "\n",
    "#### no es necesario tener buckets creados previamente pero el IAM role que usas debe tener los permisos: AmazonS3FullAccess y AmazonSageMakerFullAccess"
   ]
  },
  {
   "cell_type": "code",
   "execution_count": 8,
   "id": "patent-consultancy",
   "metadata": {},
   "outputs": [],
   "source": [
    "# Aquí hago la creación del bucket en S3 con el nombre que va en la variable prefix \n",
    "# y subo al bucket los datos que tengo en la instancia de notebook (que mueren cuando elimino la instancia)\n",
    "\n",
    "prefix = 'boston-xgboost-deploy-hl'\n",
    "\n",
    "val_location = session.upload_data(os.path.join(data_dir, 'validation.csv'), key_prefix=prefix)\n",
    "train_location = session.upload_data(os.path.join(data_dir, 'train.csv'), key_prefix=prefix)"
   ]
  },
  {
   "cell_type": "markdown",
   "id": "mediterranean-characteristic",
   "metadata": {},
   "source": [
    "## Paso 4: Entrena y construye el modelo XGBoost\n",
    "\n",
    "Ahora que tenemos los datos de entrenamiento y validación cargados en S3, podemos construir un trabajo de entrenamiento para nuestro modelo XGBoost y construir el modelo en sí.\n",
    "\n",
    "### Configurar el trabajo de entrenamiento\n",
    "\n",
    "Primero, configuraremos y ejecutaremos un trabajo de entrenamiento para nuestro modelo. Para hacer esto, necesitamos especificar cierta información que SageMaker utilizará para configurar y ejecutar correctamente el cálculo. Para obtener documentación adicional sobre cómo construir un trabajo de entrenamiento, consulte la referencia de la [API CreateTrainingJob] (https://docs.aws.amazon.com/sagemaker/latest/dg/API_CreateTrainingJob.html)."
   ]
  },
  {
   "cell_type": "markdown",
   "id": "biblical-budapest",
   "metadata": {},
   "source": [
    "### Creamos el container"
   ]
  },
  {
   "cell_type": "code",
   "execution_count": 9,
   "id": "reduced-possibility",
   "metadata": {},
   "outputs": [
    {
     "data": {
      "text/plain": [
       "'811284229777.dkr.ecr.us-east-1.amazonaws.com/xgboost:1'"
      ]
     },
     "metadata": {},
     "output_type": "display_data"
    }
   ],
   "source": [
    "# We will need to know the name of the container that we want to use for training. SageMaker provides\n",
    "# a nice utility method to construct this for us.\n",
    "container = sagemaker.image_uris.retrieve('xgboost', boto3.Session().region_name, '1')\n",
    "display(container)"
   ]
  },
  {
   "cell_type": "code",
   "execution_count": 10,
   "id": "hundred-whole",
   "metadata": {},
   "outputs": [],
   "source": [
    "# We now specify the parameters we wish to use for our training job\n",
    "training_params = {}\n",
    "\n",
    "# We need to specify the permissions that this training job will have. For our purposes we can use\n",
    "# the same permissions that our current SageMaker session has.\n",
    "training_params['RoleArn'] = role\n",
    "\n",
    "# Here we describe the algorithm we wish to use. The most important part is the container which\n",
    "# contains the training code.\n",
    "training_params['AlgorithmSpecification'] = {\n",
    "    \"TrainingImage\": container,\n",
    "    \"TrainingInputMode\": \"File\"\n",
    "}\n",
    "\n",
    "# También necesitamos decir dónde nos gustaría almacenar los artefactos del modelo resultante.\n",
    "training_params['OutputDataConfig'] = {\n",
    "    \"S3OutputPath\": \"s3://\" + session.default_bucket() + \"/\" + prefix + \"/output\"\n",
    "}\n",
    "\n",
    "# También necesitamos establecer algunos parámetros para el trabajo de entrenamiento en sí. Es decir, \n",
    "# necesitamos describir qué tipo de instancia de cálculo que deseamos usar junto con una condición \n",
    "# de detención para manejar el caso de que haya algún tipo de error y el script de entrenamiento no termina.\n",
    "training_params['ResourceConfig'] = {\n",
    "    \"InstanceCount\": 1,\n",
    "    \"InstanceType\": \"ml.m4.xlarge\",\n",
    "    \"VolumeSizeInGB\": 5\n",
    "}\n",
    "    \n",
    "training_params['StoppingCondition'] = {\n",
    "    \"MaxRuntimeInSeconds\": 86400\n",
    "}\n",
    "\n",
    "# A continuación, configuramos los hiperparámetros específicos del algoritmo. Es posible que desee cambiarlos para ver qué efecto\n",
    "# hay en el modelo resultante.\n",
    "training_params['HyperParameters'] = {\n",
    "    \"max_depth\": \"5\",\n",
    "    \"eta\": \"0.2\",\n",
    "    \"gamma\": \"4\",\n",
    "    \"min_child_weight\": \"6\",\n",
    "    \"subsample\": \"0.8\",\n",
    "    \"objective\": \"reg:linear\",\n",
    "    \"early_stopping_rounds\": \"10\",\n",
    "    \"num_round\": \"200\"\n",
    "}\n",
    "\n",
    "# Ahora necesitamos decirle a SageMaker de dónde se deben recuperar los datos.\n",
    "training_params['InputDataConfig'] = [\n",
    "    {\n",
    "        \"ChannelName\": \"train\",\n",
    "        \"DataSource\": {\n",
    "            \"S3DataSource\": {\n",
    "                \"S3DataType\": \"S3Prefix\",\n",
    "                \"S3Uri\": train_location,\n",
    "                \"S3DataDistributionType\": \"FullyReplicated\"\n",
    "            }\n",
    "        },\n",
    "        \"ContentType\": \"csv\",\n",
    "        \"CompressionType\": \"None\"\n",
    "    },\n",
    "    {\n",
    "        \"ChannelName\": \"validation\",\n",
    "        \"DataSource\": {\n",
    "            \"S3DataSource\": {\n",
    "                \"S3DataType\": \"S3Prefix\",\n",
    "                \"S3Uri\": val_location,\n",
    "                \"S3DataDistributionType\": \"FullyReplicated\"\n",
    "            }\n",
    "        },\n",
    "        \"ContentType\": \"csv\",\n",
    "        \"CompressionType\": \"None\"\n",
    "    }\n",
    "]"
   ]
  },
  {
   "cell_type": "markdown",
   "id": "raised-maryland",
   "metadata": {},
   "source": [
    "### Creamos el trabajo"
   ]
  },
  {
   "cell_type": "code",
   "execution_count": 11,
   "id": "technical-machine",
   "metadata": {},
   "outputs": [
    {
     "name": "stdout",
     "output_type": "stream",
     "text": [
      "2021-04-26 07:04:31 Starting - Starting the training job...\n",
      "2021-04-26 07:04:50 Starting - Launching requested ML instances.........\n",
      "2021-04-26 07:06:07 Starting - Preparing the instances for training......\n",
      "2021-04-26 07:07:22 Downloading - Downloading input data...\n",
      "2021-04-26 07:07:56 Training - Downloading the training image...\n",
      "2021-04-26 07:08:23 Uploading - Uploading generated training model\u001b[34mArguments: train\u001b[0m\n",
      "\u001b[34m[2021-04-26:07:08:19:INFO] Running standalone xgboost training.\u001b[0m\n",
      "\u001b[34m[2021-04-26:07:08:19:INFO] File size need to be processed in the node: 0.02mb. Available memory size in the node: 8425.08mb\u001b[0m\n",
      "\u001b[34m[2021-04-26:07:08:19:INFO] Determined delimiter of CSV input is ','\u001b[0m\n",
      "\u001b[34m[07:08:19] S3DistributionType set as FullyReplicated\u001b[0m\n",
      "\u001b[34m[07:08:19] 227x13 matrix with 2951 entries loaded from /opt/ml/input/data/train?format=csv&label_column=0&delimiter=,\u001b[0m\n",
      "\u001b[34m[2021-04-26:07:08:19:INFO] Determined delimiter of CSV input is ','\u001b[0m\n",
      "\u001b[34m[07:08:19] S3DistributionType set as FullyReplicated\u001b[0m\n",
      "\u001b[34m[07:08:19] 112x13 matrix with 1456 entries loaded from /opt/ml/input/data/validation?format=csv&label_column=0&delimiter=,\u001b[0m\n",
      "\u001b[34m[07:08:19] src/tree/updater_prune.cc:74: tree pruning end, 1 roots, 8 extra nodes, 0 pruned nodes, max_depth=4\u001b[0m\n",
      "\u001b[34m[0]#011train-rmse:19.1948#011validation-rmse:19.3621\u001b[0m\n",
      "\u001b[34mMultiple eval metrics have been passed: 'validation-rmse' will be used for early stopping.\n",
      "\u001b[0m\n",
      "\u001b[34mWill train until validation-rmse hasn't improved in 10 rounds.\u001b[0m\n",
      "\u001b[34m[07:08:19] src/tree/updater_prune.cc:74: tree pruning end, 1 roots, 8 extra nodes, 0 pruned nodes, max_depth=4\u001b[0m\n",
      "\u001b[34m[1]#011train-rmse:15.7377#011validation-rmse:15.9597\u001b[0m\n",
      "\u001b[34m[07:08:19] src/tree/updater_prune.cc:74: tree pruning end, 1 roots, 12 extra nodes, 0 pruned nodes, max_depth=4\u001b[0m\n",
      "\u001b[34m[2]#011train-rmse:12.897#011validation-rmse:13.1083\u001b[0m\n",
      "\u001b[34m[07:08:19] src/tree/updater_prune.cc:74: tree pruning end, 1 roots, 12 extra nodes, 2 pruned nodes, max_depth=4\u001b[0m\n",
      "\u001b[34m[3]#011train-rmse:10.6198#011validation-rmse:10.9045\u001b[0m\n",
      "\u001b[34m[07:08:19] src/tree/updater_prune.cc:74: tree pruning end, 1 roots, 14 extra nodes, 0 pruned nodes, max_depth=5\u001b[0m\n",
      "\u001b[34m[4]#011train-rmse:8.88995#011validation-rmse:9.20644\u001b[0m\n",
      "\u001b[34m[07:08:19] src/tree/updater_prune.cc:74: tree pruning end, 1 roots, 18 extra nodes, 2 pruned nodes, max_depth=5\u001b[0m\n",
      "\u001b[34m[5]#011train-rmse:7.44185#011validation-rmse:7.84645\u001b[0m\n",
      "\u001b[34m[07:08:19] src/tree/updater_prune.cc:74: tree pruning end, 1 roots, 16 extra nodes, 0 pruned nodes, max_depth=5\u001b[0m\n",
      "\u001b[34m[6]#011train-rmse:6.20931#011validation-rmse:6.69591\u001b[0m\n",
      "\u001b[34m[07:08:19] src/tree/updater_prune.cc:74: tree pruning end, 1 roots, 22 extra nodes, 2 pruned nodes, max_depth=5\u001b[0m\n",
      "\u001b[34m[7]#011train-rmse:5.32143#011validation-rmse:5.92451\u001b[0m\n",
      "\u001b[34m[07:08:19] src/tree/updater_prune.cc:74: tree pruning end, 1 roots, 18 extra nodes, 0 pruned nodes, max_depth=5\u001b[0m\n",
      "\u001b[34m[8]#011train-rmse:4.55618#011validation-rmse:5.28837\u001b[0m\n",
      "\u001b[34m[07:08:19] src/tree/updater_prune.cc:74: tree pruning end, 1 roots, 30 extra nodes, 0 pruned nodes, max_depth=5\u001b[0m\n",
      "\u001b[34m[9]#011train-rmse:3.95691#011validation-rmse:4.80494\u001b[0m\n",
      "\u001b[34m[07:08:19] src/tree/updater_prune.cc:74: tree pruning end, 1 roots, 14 extra nodes, 0 pruned nodes, max_depth=5\u001b[0m\n",
      "\u001b[34m[10]#011train-rmse:3.49962#011validation-rmse:4.52954\u001b[0m\n",
      "\u001b[34m[07:08:19] src/tree/updater_prune.cc:74: tree pruning end, 1 roots, 26 extra nodes, 0 pruned nodes, max_depth=5\u001b[0m\n",
      "\u001b[34m[11]#011train-rmse:3.15831#011validation-rmse:4.32458\u001b[0m\n",
      "\u001b[34m[07:08:19] src/tree/updater_prune.cc:74: tree pruning end, 1 roots, 20 extra nodes, 0 pruned nodes, max_depth=5\u001b[0m\n",
      "\u001b[34m[12]#011train-rmse:2.86759#011validation-rmse:4.22846\u001b[0m\n",
      "\u001b[34m[07:08:19] src/tree/updater_prune.cc:74: tree pruning end, 1 roots, 20 extra nodes, 0 pruned nodes, max_depth=5\u001b[0m\n",
      "\u001b[34m[13]#011train-rmse:2.66924#011validation-rmse:4.10322\u001b[0m\n",
      "\u001b[34m[07:08:19] src/tree/updater_prune.cc:74: tree pruning end, 1 roots, 22 extra nodes, 0 pruned nodes, max_depth=5\u001b[0m\n",
      "\u001b[34m[14]#011train-rmse:2.46121#011validation-rmse:4.03544\u001b[0m\n",
      "\u001b[34m[07:08:19] src/tree/updater_prune.cc:74: tree pruning end, 1 roots, 22 extra nodes, 0 pruned nodes, max_depth=5\u001b[0m\n",
      "\u001b[34m[15]#011train-rmse:2.3369#011validation-rmse:4.04783\u001b[0m\n",
      "\u001b[34m[07:08:19] src/tree/updater_prune.cc:74: tree pruning end, 1 roots, 22 extra nodes, 0 pruned nodes, max_depth=5\u001b[0m\n",
      "\u001b[34m[16]#011train-rmse:2.21161#011validation-rmse:4.0094\u001b[0m\n",
      "\u001b[34m[07:08:19] src/tree/updater_prune.cc:74: tree pruning end, 1 roots, 26 extra nodes, 8 pruned nodes, max_depth=5\u001b[0m\n",
      "\u001b[34m[17]#011train-rmse:2.08032#011validation-rmse:3.96081\u001b[0m\n",
      "\u001b[34m[07:08:19] src/tree/updater_prune.cc:74: tree pruning end, 1 roots, 18 extra nodes, 4 pruned nodes, max_depth=5\u001b[0m\n",
      "\u001b[34m[18]#011train-rmse:1.9991#011validation-rmse:3.96537\u001b[0m\n",
      "\u001b[34m[07:08:19] src/tree/updater_prune.cc:74: tree pruning end, 1 roots, 16 extra nodes, 0 pruned nodes, max_depth=5\u001b[0m\n",
      "\u001b[34m[19]#011train-rmse:1.94104#011validation-rmse:3.90813\u001b[0m\n",
      "\u001b[34m[07:08:19] src/tree/updater_prune.cc:74: tree pruning end, 1 roots, 16 extra nodes, 0 pruned nodes, max_depth=5\u001b[0m\n",
      "\u001b[34m[20]#011train-rmse:1.89607#011validation-rmse:3.94582\u001b[0m\n",
      "\u001b[34m[07:08:19] src/tree/updater_prune.cc:74: tree pruning end, 1 roots, 20 extra nodes, 4 pruned nodes, max_depth=5\u001b[0m\n",
      "\u001b[34m[21]#011train-rmse:1.83284#011validation-rmse:3.93883\u001b[0m\n",
      "\u001b[34m[07:08:19] src/tree/updater_prune.cc:74: tree pruning end, 1 roots, 14 extra nodes, 2 pruned nodes, max_depth=5\u001b[0m\n",
      "\u001b[34m[22]#011train-rmse:1.79756#011validation-rmse:3.95472\u001b[0m\n",
      "\u001b[34m[07:08:19] src/tree/updater_prune.cc:74: tree pruning end, 1 roots, 12 extra nodes, 4 pruned nodes, max_depth=5\u001b[0m\n",
      "\u001b[34m[23]#011train-rmse:1.77692#011validation-rmse:3.91773\u001b[0m\n",
      "\u001b[34m[07:08:19] src/tree/updater_prune.cc:74: tree pruning end, 1 roots, 16 extra nodes, 0 pruned nodes, max_depth=5\u001b[0m\n",
      "\u001b[34m[24]#011train-rmse:1.72476#011validation-rmse:3.92876\u001b[0m\n",
      "\u001b[34m[07:08:19] src/tree/updater_prune.cc:74: tree pruning end, 1 roots, 20 extra nodes, 2 pruned nodes, max_depth=5\u001b[0m\n",
      "\u001b[34m[25]#011train-rmse:1.68256#011validation-rmse:3.9304\u001b[0m\n",
      "\u001b[34m[07:08:19] src/tree/updater_prune.cc:74: tree pruning end, 1 roots, 12 extra nodes, 0 pruned nodes, max_depth=5\u001b[0m\n",
      "\u001b[34m[26]#011train-rmse:1.64254#011validation-rmse:3.91734\u001b[0m\n",
      "\u001b[34m[07:08:19] src/tree/updater_prune.cc:74: tree pruning end, 1 roots, 12 extra nodes, 8 pruned nodes, max_depth=5\u001b[0m\n",
      "\u001b[34m[27]#011train-rmse:1.58425#011validation-rmse:3.94218\u001b[0m\n",
      "\u001b[34m[07:08:19] src/tree/updater_prune.cc:74: tree pruning end, 1 roots, 14 extra nodes, 6 pruned nodes, max_depth=5\u001b[0m\n",
      "\u001b[34m[28]#011train-rmse:1.56962#011validation-rmse:3.9289\u001b[0m\n",
      "\u001b[34m[07:08:19] src/tree/updater_prune.cc:74: tree pruning end, 1 roots, 18 extra nodes, 2 pruned nodes, max_depth=5\u001b[0m\n",
      "\u001b[34m[29]#011train-rmse:1.5248#011validation-rmse:3.9188\u001b[0m\n",
      "\u001b[34mStopping. Best iteration:\u001b[0m\n",
      "\u001b[34m[19]#011train-rmse:1.94104#011validation-rmse:3.90813\n",
      "\u001b[0m\n",
      "\n",
      "2021-04-26 07:08:59 Completed - Training job completed\n",
      "Training seconds: 97\n",
      "Billable seconds: 97\n"
     ]
    }
   ],
   "source": [
    "# Primero tenemos que elegir un nombre de trabajo de formación. \n",
    "# Esto es útil si queremos recordar información sobre nuestro trabajo de formación en una fecha posterior. \n",
    "# Tenga en cuenta que SageMaker requiere un nombre de trabajo de formación y que el nombre debe\n",
    "# ser único, lo que logramos agregando la marca de tiempo actual.\n",
    "training_job_name = \"boston-xgboost-\" + strftime(\"%Y-%m-%d-%H-%M-%S\", gmtime())\n",
    "training_params['TrainingJobName'] = training_job_name\n",
    "\n",
    "# Y ahora le pedimos a SageMaker que cree (y ejecute) el trabajo de entrenamiento\n",
    "training_job = session.sagemaker_client.create_training_job(**training_params)\n",
    "#El trabajo de entrenamiento ahora ha sido creado por SageMaker y se está ejecutando actualmente. \n",
    "# Dado que necesitamos el resultado del trabajo de entrenamiento, \n",
    "# es posible que deseemos esperar hasta que haya finalizado. \n",
    "#Podemos hacerlo pidiendo a SageMaker que genere los registros generados por el trabajo de entrenamiento \n",
    "#y continuar haciéndolo hasta que finalice el trabajo de entrenamiento.\n",
    "session.logs_for_job(training_job_name, wait=True)"
   ]
  },
  {
   "cell_type": "code",
   "execution_count": 12,
   "id": "expressed-dynamics",
   "metadata": {},
   "outputs": [],
   "source": [
    "# Comenzamos pidiendo a SageMaker que nos describa los resultados del trabajo de entrenamiento\n",
    "training_job_info = session.sagemaker_client.describe_training_job(TrainingJobName=training_job_name)\n",
    "\n",
    "model_artifacts = training_job_info['ModelArtifacts']['S3ModelArtifacts']"
   ]
  },
  {
   "cell_type": "code",
   "execution_count": 13,
   "id": "naval-confidentiality",
   "metadata": {},
   "outputs": [],
   "source": [
    "# Al igual que cuando creamos un trabajo de entrenamiento, el nombre del modelo debe ser único\n",
    "model_name = training_job_name + \"-model\"\n",
    "\n",
    "# También necesitamos decirle a SageMaker qué contenedor debe usarse para la inferencia y dónde debe\n",
    "# recuperar los artefactos del modelo. En nuestro caso, el contenedor xgboost que usamos para entrenar\n",
    "# también se puede utilizar para inferencias.\n",
    "primary_container = {\n",
    "    \"Image\": container,\n",
    "    \"ModelDataUrl\": model_artifacts\n",
    "}\n",
    "\n",
    "# Y por último construimos el modelo SageMaker\n",
    "model_info = session.sagemaker_client.create_model(\n",
    "                                ModelName = model_name,\n",
    "                                ExecutionRoleArn = role,\n",
    "                                PrimaryContainer = primary_container)"
   ]
  },
  {
   "cell_type": "markdown",
   "id": "hollow-circulation",
   "metadata": {},
   "source": [
    "## Paso 5: prueba el modelo entrenado\n",
    "\n",
    "Saltaremos este paso por ahora. Seguiremos probando nuestro modelo entrenado, pero lo haremos utilizando el modelo implementado, en lugar de configurar un trabajo de transformación por lotes.\n",
    "\n",
    "\n",
    "## Paso 6: crear e implementar el punto final\n",
    "\n",
    "Ahora que hemos entrenado y construido un modelo, es hora de crear el punto final asociado e implementarlo. Como en los pasos anteriores, primero debemos construir la configuración adecuada."
   ]
  },
  {
   "cell_type": "code",
   "execution_count": 14,
   "id": "orange-society",
   "metadata": {},
   "outputs": [],
   "source": [
    "# Como antes, necesitamos darle a nuestra configuración de punto final un nombre que debería ser único.\n",
    "endpoint_config_name = \"boston-xgboost-endpoint-config-\" + strftime(\"%Y-%m-%d-%H-%M-%S\", gmtime())\n",
    "\n",
    "# le pedimos a SageMaker que construya la configuración del endpoint\n",
    "endpoint_config_info = session.sagemaker_client.create_endpoint_config(\n",
    "                            EndpointConfigName = endpoint_config_name,\n",
    "                            ProductionVariants = [{\n",
    "                                \"InstanceType\": \"ml.m4.xlarge\",\n",
    "                                \"InitialVariantWeight\": 1,\n",
    "                                \"InitialInstanceCount\": 1,\n",
    "                                \"ModelName\": model_name,\n",
    "                                \"VariantName\": \"AllTraffic\"\n",
    "                            }])"
   ]
  },
  {
   "cell_type": "markdown",
   "id": "engaging-commonwealth",
   "metadata": {},
   "source": [
    "Y ahora que se ha creado la configuración del punto final, podemos implementar el punto final en sí.\n",
    "\n",
    "**NOTA:** Al implementar un modelo, le está pidiendo a SageMaker que lance una instancia  que esperará a que se le envíen datos. Como resultado, esta instancia continuará ejecutándose hasta que * usted * la apague. Es importante saber esto, ya que el costo de un endpoint implementado depende de cuánto tiempo ha estado funcionando.\n",
    "\n",
    "En otras palabras ** Si ya no usa el endpoint implementado, ¡apáguelo! **"
   ]
  },
  {
   "cell_type": "code",
   "execution_count": 15,
   "id": "pressed-helena",
   "metadata": {},
   "outputs": [],
   "source": [
    "# Necesitamos nuevamente crear un nombre único para nuestro endpoint\n",
    "endpoint_name = \"boston-xgboost-endpoint-\" + strftime(\"%Y-%m-%d-%H-%M-%S\", gmtime())\n",
    "\n",
    "# acá hacemos el depliegue del endpoint\n",
    "endpoint_info = session.sagemaker_client.create_endpoint(\n",
    "                    EndpointName = endpoint_name,\n",
    "                    EndpointConfigName = endpoint_config_name)"
   ]
  },
  {
   "cell_type": "markdown",
   "id": "multiple-scholarship",
   "metadata": {},
   "source": [
    "Al igual que cuando creamos un trabajo de capacitación, SageMaker ahora está solicitando y lanzando nuestro endpoint. Dado que no podemos hacer mucho hasta que el punto final se haya implementado por completo, podemos esperar a que finalice."
   ]
  },
  {
   "cell_type": "code",
   "execution_count": 16,
   "id": "architectural-intersection",
   "metadata": {},
   "outputs": [
    {
     "name": "stdout",
     "output_type": "stream",
     "text": [
      "---------------!"
     ]
    }
   ],
   "source": [
    "endpoint_dec = session.wait_for_endpoint(endpoint_name)"
   ]
  },
  {
   "cell_type": "markdown",
   "id": "executive-sunglasses",
   "metadata": {},
   "source": [
    "## Paso 7: Usa el modelo\n",
    "\n",
    "Ahora que nuestro modelo está entrenado e implementado, podemos enviarle datos de prueba y evaluar los resultados. Aquí, debido a que nuestros datos de prueba son tan pequeños, podemos enviarlos todos con una sola llamada a nuestro punto final. Si nuestro conjunto de datos de prueba fuera más grande, tendríamos que dividirlo y enviar los datos en trozos, asegurándonos de acumular los resultados."
   ]
  },
  {
   "cell_type": "code",
   "execution_count": 31,
   "id": "hundred-lexington",
   "metadata": {},
   "outputs": [],
   "source": [
    "# Primero necesitamos serializar los datos de entrada. En este caso, queremos enviar los datos de prueba como un csv \n",
    "# así que hacemos esto manualmente ya que no tenemos un objeto Predictor. \n",
    "# Por supuesto, hay muchas otras formas de hacer esto.\n",
    "payload = [[str(entry) for entry in row] for row in X_test.values]\n",
    "payload = '\\n'.join([','.join(row) for row in payload])"
   ]
  },
  {
   "cell_type": "code",
   "execution_count": 30,
   "id": "mexican-documentary",
   "metadata": {},
   "outputs": [
    {
     "name": "stdout",
     "output_type": "stream",
     "text": [
      "<class 'numpy.ndarray'>\n",
      "<class 'str'>\n"
     ]
    }
   ],
   "source": [
    "print(type(X_test.values))\n",
    "print(type(payload))"
   ]
  },
  {
   "cell_type": "code",
   "execution_count": 18,
   "id": "interracial-reason",
   "metadata": {},
   "outputs": [],
   "source": [
    "# Esta vez, usamos el cliente de ejecución de sagemaker en vez del cliente de sagemaker para poder invocar el endpoint\n",
    "response = session.sagemaker_runtime_client.invoke_endpoint(\n",
    "                                                EndpointName = endpoint_name,\n",
    "                                                ContentType = 'text/csv',\n",
    "                                                Body = payload)\n",
    "\n",
    "# Necesitamos asegurarnos de deserializar el resultado de nuestra llamada de punto final.\n",
    "result = response['Body'].read().decode(\"utf-8\")\n",
    "Y_pred = np.fromstring(result, sep=',')"
   ]
  },
  {
   "cell_type": "markdown",
   "id": "colored-northern",
   "metadata": {},
   "source": [
    "Para ver qué tan bien funciona nuestro modelo, podemos crear un diagrama de dispersión simple entre los valores predichos y reales. Si el modelo fuera completamente preciso, el diagrama de dispersión resultante se vería como la línea $ x = y $. Como podemos ver, nuestro modelo parece haber funcionado bien, pero hay margen de mejora."
   ]
  },
  {
   "cell_type": "code",
   "execution_count": 19,
   "id": "rubber-disabled",
   "metadata": {},
   "outputs": [
    {
     "data": {
      "text/plain": [
       "Text(0.5, 1.0, 'Median Price vs Predicted Price')"
      ]
     },
     "execution_count": 19,
     "metadata": {},
     "output_type": "execute_result"
    },
    {
     "data": {
      "image/png": "[encoded data removed]",
      "text/plain": [
       "<Figure size 432x288 with 1 Axes>"
      ]
     },
     "metadata": {
      "needs_background": "light"
     },
     "output_type": "display_data"
    }
   ],
   "source": [
    "plt.scatter(Y_test, Y_pred)\n",
    "plt.xlabel(\"Median Price\")\n",
    "plt.ylabel(\"Predicted Price\")\n",
    "plt.title(\"Median Price vs Predicted Price\")"
   ]
  },
  {
   "cell_type": "markdown",
   "id": "second-poultry",
   "metadata": {},
   "source": [
    "## Eliminar el endpoint\n",
    "\n",
    "Dado que ya no usamos el modelo implementado, debemos asegurarnos de apagarlo. Recuerde que debe pagar por la cantidad de tiempo que su punto final está implementado, por lo que cuanto más tiempo se deja en funcionamiento, más cuesta."
   ]
  },
  {
   "cell_type": "code",
   "execution_count": 20,
   "id": "welcome-pound",
   "metadata": {},
   "outputs": [],
   "source": [
    "#esession.sagemaker_client.delete_endpoint(EndpointName = endpoint_name)"
   ]
  },
  {
   "cell_type": "markdown",
   "id": "vanilla-basic",
   "metadata": {},
   "source": [
    "## Opcional: Limpiar\n",
    "\n",
    "La instancia de portátil predeterminada en SageMaker no tiene mucho espacio disponible en disco. A medida que continúe completando y ejecutando cuadernos, eventualmente llenará este espacio en el disco, lo que generará errores que pueden ser difíciles de diagnosticar. Una vez que haya terminado de usar un cuaderno, es una buena idea eliminar los archivos que creó durante el proceso. Por supuesto, puede hacerlo desde el terminal o desde el concentrador del portátil si lo desea. La celda a continuación contiene algunos comandos para limpiar los archivos creados desde dentro del cuaderno."
   ]
  },
  {
   "cell_type": "code",
   "execution_count": 21,
   "id": "ambient-tribe",
   "metadata": {},
   "outputs": [],
   "source": [
    "# First we will remove all of the files contained in the data_dir directory\n",
    "#!rm $data_dir/*\n",
    "\n",
    "# And then we delete the directory itself\n",
    "#!rmdir $data_dir"
   ]
  }
 ],
 "metadata": {
  "kernelspec": {
   "display_name": "conda_python3",
   "language": "python",
   "name": "conda_python3"
  },
  "language_info": {
   "codemirror_mode": {
    "name": "ipython",
    "version": 3
   },
   "file_extension": ".py",
   "mimetype": "text/x-python",
   "name": "python",
   "nbconvert_exporter": "python",
   "pygments_lexer": "ipython3",
   "version": "3.6.13"
  }
 },
 "nbformat": 4,
 "nbformat_minor": 5
}
