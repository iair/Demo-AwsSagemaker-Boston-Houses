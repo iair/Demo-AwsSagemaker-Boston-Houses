{
 "cells": [
  {
   "cell_type": "code",
   "execution_count": 1,
   "id": "clean-reconstruction",
   "metadata": {},
   "outputs": [
    {
     "name": "stdout",
     "output_type": "stream",
     "text": [
      "Requirement already satisfied: sagemaker==2.31.1 in /home/ec2-user/anaconda3/envs/python3/lib/python3.6/site-packages (2.31.1)\n",
      "Requirement already satisfied: protobuf>=3.1 in /home/ec2-user/anaconda3/envs/python3/lib/python3.6/site-packages (from sagemaker==2.31.1) (3.15.2)\n",
      "Requirement already satisfied: importlib-metadata>=1.4.0 in /home/ec2-user/anaconda3/envs/python3/lib/python3.6/site-packages (from sagemaker==2.31.1) (3.7.0)\n",
      "Requirement already satisfied: smdebug-rulesconfig==1.0.1 in /home/ec2-user/anaconda3/envs/python3/lib/python3.6/site-packages (from sagemaker==2.31.1) (1.0.1)\n",
      "Requirement already satisfied: boto3>=1.16.32 in /home/ec2-user/anaconda3/envs/python3/lib/python3.6/site-packages (from sagemaker==2.31.1) (1.17.35)\n",
      "Requirement already satisfied: pandas in /home/ec2-user/anaconda3/envs/python3/lib/python3.6/site-packages (from sagemaker==2.31.1) (1.1.5)\n",
      "Requirement already satisfied: packaging>=20.0 in /home/ec2-user/anaconda3/envs/python3/lib/python3.6/site-packages (from sagemaker==2.31.1) (20.9)\n",
      "Requirement already satisfied: google-pasta in /home/ec2-user/anaconda3/envs/python3/lib/python3.6/site-packages (from sagemaker==2.31.1) (0.2.0)\n",
      "Requirement already satisfied: numpy>=1.9.0 in /home/ec2-user/anaconda3/envs/python3/lib/python3.6/site-packages (from sagemaker==2.31.1) (1.19.5)\n",
      "Requirement already satisfied: protobuf3-to-dict>=0.1.5 in /home/ec2-user/anaconda3/envs/python3/lib/python3.6/site-packages (from sagemaker==2.31.1) (0.1.5)\n",
      "Requirement already satisfied: attrs in /home/ec2-user/anaconda3/envs/python3/lib/python3.6/site-packages (from sagemaker==2.31.1) (20.3.0)\n",
      "Requirement already satisfied: s3transfer<0.4.0,>=0.3.0 in /home/ec2-user/anaconda3/envs/python3/lib/python3.6/site-packages (from boto3>=1.16.32->sagemaker==2.31.1) (0.3.4)\n",
      "Requirement already satisfied: jmespath<1.0.0,>=0.7.1 in /home/ec2-user/anaconda3/envs/python3/lib/python3.6/site-packages (from boto3>=1.16.32->sagemaker==2.31.1) (0.10.0)\n",
      "Requirement already satisfied: botocore<1.21.0,>=1.20.35 in /home/ec2-user/anaconda3/envs/python3/lib/python3.6/site-packages (from boto3>=1.16.32->sagemaker==2.31.1) (1.20.35)\n",
      "Requirement already satisfied: urllib3<1.27,>=1.25.4 in /home/ec2-user/anaconda3/envs/python3/lib/python3.6/site-packages (from botocore<1.21.0,>=1.20.35->boto3>=1.16.32->sagemaker==2.31.1) (1.26.3)\n",
      "Requirement already satisfied: python-dateutil<3.0.0,>=2.1 in /home/ec2-user/anaconda3/envs/python3/lib/python3.6/site-packages (from botocore<1.21.0,>=1.20.35->boto3>=1.16.32->sagemaker==2.31.1) (2.8.1)\n",
      "Requirement already satisfied: zipp>=0.5 in /home/ec2-user/anaconda3/envs/python3/lib/python3.6/site-packages (from importlib-metadata>=1.4.0->sagemaker==2.31.1) (3.4.0)\n",
      "Requirement already satisfied: typing-extensions>=3.6.4 in /home/ec2-user/anaconda3/envs/python3/lib/python3.6/site-packages (from importlib-metadata>=1.4.0->sagemaker==2.31.1) (3.7.4.3)\n",
      "Requirement already satisfied: pyparsing>=2.0.2 in /home/ec2-user/anaconda3/envs/python3/lib/python3.6/site-packages (from packaging>=20.0->sagemaker==2.31.1) (2.4.7)\n",
      "Requirement already satisfied: six>=1.9 in /home/ec2-user/anaconda3/envs/python3/lib/python3.6/site-packages (from protobuf>=3.1->sagemaker==2.31.1) (1.15.0)\n",
      "Requirement already satisfied: pytz>=2017.2 in /home/ec2-user/anaconda3/envs/python3/lib/python3.6/site-packages (from pandas->sagemaker==2.31.1) (2021.1)\n"
     ]
    }
   ],
   "source": [
    "#!pip install -U sagemaker\n",
    "# Make sure that we use SageMaker 2.x\n",
    "!pip install sagemaker==2.31.1"
   ]
  },
  {
   "cell_type": "code",
   "execution_count": 2,
   "id": "stuck-tobago",
   "metadata": {},
   "outputs": [],
   "source": [
    "%matplotlib inline\n",
    "\n",
    "import os\n",
    "\n",
    "import time\n",
    "from time import gmtime, strftime\n",
    "\n",
    "import numpy as np\n",
    "import pandas as pd\n",
    "\n",
    "import matplotlib.pyplot as plt\n",
    "from sklearn.datasets import load_boston\n",
    "import sklearn.model_selection\n",
    "\n",
    "import sagemaker\n",
    "from sagemaker import get_execution_role\n",
    "from sagemaker import image_uris\n",
    "import boto3\n",
    "\n",
    "# This is an object that represents the SageMaker session that we are currently operating in. This\n",
    "# object contains some useful information that we will need to access later such as our region.\n",
    "session = sagemaker.Session()\n",
    "\n",
    "# This is an object that represents the IAM role that we are currently assigned. When we construct\n",
    "# and launch the training job later we will need to tell it what IAM role it should have. Since our\n",
    "# use case is relatively simple we will simply assign the training job the role we currently have.\n",
    "role = get_execution_role()"
   ]
  },
  {
   "cell_type": "markdown",
   "id": "aggregate-questionnaire",
   "metadata": {},
   "source": [
    "## Step 1: Downloading the data\n",
    "\n",
    "Fortunately, this dataset can be retrieved using sklearn and so this step is relatively straightforward."
   ]
  },
  {
   "cell_type": "code",
   "execution_count": 16,
   "id": "rising-russian",
   "metadata": {},
   "outputs": [],
   "source": [
    "boston = load_boston()"
   ]
  },
  {
   "cell_type": "markdown",
   "id": "concrete-terrain",
   "metadata": {},
   "source": [
    "## Step 2: Preparing and splitting the data\n",
    "\n",
    "Given that this is clean tabular data, we don't need to do any processing. However, we do need to split the rows in the dataset up into train, test and validation sets."
   ]
  },
  {
   "cell_type": "code",
   "execution_count": 3,
   "id": "included-edmonton",
   "metadata": {},
   "outputs": [],
   "source": [
    "# First we package up the input data and the target variable (the median value) as pandas dataframes. This\n",
    "# will make saving the data to a file a little easier later on.\n",
    "\n",
    "X_bos_pd = pd.DataFrame(boston.data, columns=boston.feature_names)\n",
    "Y_bos_pd = pd.DataFrame(boston.target)\n",
    "\n",
    "# dividimos los dataset en 2/3 training y 1/3 testing sets.\n",
    "X_train, X_test, Y_train, Y_test = sklearn.model_selection.train_test_split(X_bos_pd, Y_bos_pd, test_size=0.33)\n",
    "\n",
    "# Luego dividimos el conjunto de entrenamiento en 2/3 de entrenamiento y 1/3 de conjuntos de validación.\n",
    "X_train, X_val, Y_train, Y_val = sklearn.model_selection.train_test_split(X_train, Y_train, test_size=0.33)"
   ]
  },
  {
   "cell_type": "markdown",
   "id": "bulgarian-facility",
   "metadata": {},
   "source": [
    "## Paso 3: Subir los archivos de datos a S3\n",
    "\n",
    "Cuando se construye un trabajo de entrenamiento usando SageMaker, se ejecuta un contenedor que realiza la operación de entrenamiento. Este contenedor tiene acceso a los datos almacenados en S3. Esto significa que necesitamos cargar los datos que queremos usar para entrenar a S3. Además, cuando realizamos un trabajo de transformación por lotes, SageMaker espera que los datos de entrada se almacenen en S3. Podemos usar la API de SageMaker para hacer esto y ocultar algunos de los detalles.\n",
    "\n",
    "### Guarda los datos localmente\n",
    "\n",
    "Primero necesitamos crear los archivos csv de prueba, entrenamiento y validación que luego cargaremos en S3."
   ]
  },
  {
   "cell_type": "code",
   "execution_count": 4,
   "id": "arctic-genome",
   "metadata": {},
   "outputs": [],
   "source": [
    "# Nos aseguramos que exista el directorio local con la data \n",
    "data_dir = '../data/boston'\n",
    "if not os.path.exists(data_dir):\n",
    "    os.makedirs(data_dir)"
   ]
  },
  {
   "cell_type": "code",
   "execution_count": 5,
   "id": "extended-sunset",
   "metadata": {},
   "outputs": [],
   "source": [
    "# Usamos pandas para guardar nuestros datos de prueba, entrenamiento y validación en archivos csv. Tenga en cuenta que nos aseguramos de no incluir el encabezado\n",
    "# información o un índice, ya que esto es requerido por los algoritmos integrados proporcionados por Amazon. \n",
    "# Además, para el tren y datos de validación, se asume que la primera entrada en cada fila es la variable objetivo.\n",
    "\n",
    "X_test.to_csv(os.path.join(data_dir, 'test.csv'), header=False, index=False)\n",
    "\n",
    "pd.concat([Y_val, X_val], axis=1).to_csv(os.path.join(data_dir, 'validation.csv'), header=False, index=False)\n",
    "pd.concat([Y_train, X_train], axis=1).to_csv(os.path.join(data_dir, 'train.csv'), header=False, index=False)"
   ]
  },
  {
   "cell_type": "markdown",
   "id": "departmental-mattress",
   "metadata": {},
   "source": [
    "### Creamos el bucket en S3 usando este código\n",
    "\n",
    "#### no es necesario tener buckets creados previamente pero el IAM role que usas debe tener los permisos: AmazonS3FullAccess y AmazonSageMakerFullAccess"
   ]
  },
  {
   "cell_type": "code",
   "execution_count": 6,
   "id": "patient-corner",
   "metadata": {},
   "outputs": [],
   "source": [
    "# Aquí hago la creación del bucket en S3 con el nombre que va en la variable prefix \n",
    "# y subo al bucket los datos que tengo en la instancia de notebook (que mueren cuando elimino la instancia)\n",
    "\n",
    "prefix = 'boston-xgboost-HL'\n",
    "\n",
    "test_location = session.upload_data(os.path.join(data_dir, 'test.csv'), key_prefix=prefix)\n",
    "val_location = session.upload_data(os.path.join(data_dir, 'validation.csv'), key_prefix=prefix)\n",
    "train_location = session.upload_data(os.path.join(data_dir, 'train.csv'), key_prefix=prefix)"
   ]
  },
  {
   "cell_type": "markdown",
   "id": "union-seminar",
   "metadata": {},
   "source": [
    "## Paso 4: Entrena y construye el modelo XGBoost\n",
    "\n",
    "Ahora que tenemos los datos de entrenamiento y validación cargados en S3, podemos construir un trabajo de entrenamiento para nuestro modelo XGBoost y construir el modelo en sí.\n",
    "\n",
    "### Configurar el trabajo de entrenamiento\n",
    "\n",
    "Primero, configuraremos y ejecutaremos un trabajo de entrenamiento para nuestro modelo. Para hacer esto, necesitamos especificar cierta información que SageMaker utilizará para configurar y ejecutar correctamente el cálculo. Para obtener documentación adicional sobre cómo construir un trabajo de entrenamiento, consulte la referencia de la [API CreateTrainingJob] (https://docs.aws.amazon.com/sagemaker/latest/dg/API_CreateTrainingJob.html)."
   ]
  },
  {
   "cell_type": "markdown",
   "id": "lesser-profile",
   "metadata": {},
   "source": [
    "### Creamos el container"
   ]
  },
  {
   "cell_type": "code",
   "execution_count": 7,
   "id": "collaborative-incident",
   "metadata": {},
   "outputs": [
    {
     "data": {
      "text/plain": [
       "'811284229777.dkr.ecr.us-east-1.amazonaws.com/xgboost:1'"
      ]
     },
     "metadata": {},
     "output_type": "display_data"
    }
   ],
   "source": [
    "# We will need to know the name of the container that we want to use for training. SageMaker provides\n",
    "# a nice utility method to construct this for us.\n",
    "container = sagemaker.image_uris.retrieve('xgboost', boto3.Session().region_name, '1')\n",
    "display(container)"
   ]
  },
  {
   "cell_type": "markdown",
   "id": "interpreted-catering",
   "metadata": {},
   "source": [
    "### Seteamos los parámetros requeridos "
   ]
  },
  {
   "cell_type": "code",
   "execution_count": 8,
   "id": "every-graphics",
   "metadata": {},
   "outputs": [],
   "source": [
    "# We now specify the parameters we wish to use for our training job\n",
    "training_params = {}\n",
    "\n",
    "# We need to specify the permissions that this training job will have. For our purposes we can use\n",
    "# the same permissions that our current SageMaker session has.\n",
    "training_params['RoleArn'] = role\n",
    "\n",
    "# Here we describe the algorithm we wish to use. The most important part is the container which\n",
    "# contains the training code.\n",
    "training_params['AlgorithmSpecification'] = {\n",
    "    \"TrainingImage\": container,\n",
    "    \"TrainingInputMode\": \"File\"\n",
    "}\n",
    "\n",
    "# También necesitamos decir dónde nos gustaría almacenar los artefactos del modelo resultante.\n",
    "training_params['OutputDataConfig'] = {\n",
    "    \"S3OutputPath\": \"s3://\" + session.default_bucket() + \"/\" + prefix + \"/output\"\n",
    "}\n",
    "\n",
    "# También necesitamos establecer algunos parámetros para el trabajo de entrenamiento en sí. Es decir, \n",
    "# necesitamos describir qué tipo de instancia de cálculo que deseamos usar junto con una condición \n",
    "# de detención para manejar el caso de que haya algún tipo de error y el script de entrenamiento no termina.\n",
    "training_params['ResourceConfig'] = {\n",
    "    \"InstanceCount\": 1,\n",
    "    \"InstanceType\": \"ml.m4.xlarge\",\n",
    "    \"VolumeSizeInGB\": 5\n",
    "}\n",
    "    \n",
    "training_params['StoppingCondition'] = {\n",
    "    \"MaxRuntimeInSeconds\": 86400\n",
    "}\n",
    "\n",
    "# A continuación, configuramos los hiperparámetros específicos del algoritmo. Es posible que desee cambiarlos para ver qué efecto\n",
    "# hay en el modelo resultante.\n",
    "training_params['HyperParameters'] = {\n",
    "    \"max_depth\": \"5\",\n",
    "    \"eta\": \"0.2\",\n",
    "    \"gamma\": \"4\",\n",
    "    \"min_child_weight\": \"6\",\n",
    "    \"subsample\": \"0.8\",\n",
    "    \"objective\": \"reg:linear\",\n",
    "    \"early_stopping_rounds\": \"10\",\n",
    "    \"num_round\": \"200\"\n",
    "}\n",
    "\n",
    "# Ahora necesitamos decirle a SageMaker de dónde se deben recuperar los datos.\n",
    "training_params['InputDataConfig'] = [\n",
    "    {\n",
    "        \"ChannelName\": \"train\",\n",
    "        \"DataSource\": {\n",
    "            \"S3DataSource\": {\n",
    "                \"S3DataType\": \"S3Prefix\",\n",
    "                \"S3Uri\": train_location,\n",
    "                \"S3DataDistributionType\": \"FullyReplicated\"\n",
    "            }\n",
    "        },\n",
    "        \"ContentType\": \"csv\",\n",
    "        \"CompressionType\": \"None\"\n",
    "    },\n",
    "    {\n",
    "        \"ChannelName\": \"validation\",\n",
    "        \"DataSource\": {\n",
    "            \"S3DataSource\": {\n",
    "                \"S3DataType\": \"S3Prefix\",\n",
    "                \"S3Uri\": val_location,\n",
    "                \"S3DataDistributionType\": \"FullyReplicated\"\n",
    "            }\n",
    "        },\n",
    "        \"ContentType\": \"csv\",\n",
    "        \"CompressionType\": \"None\"\n",
    "    }\n",
    "]"
   ]
  },
  {
   "cell_type": "markdown",
   "id": "accessory-freeze",
   "metadata": {},
   "source": [
    "### Creamos el trabajo"
   ]
  },
  {
   "cell_type": "code",
   "execution_count": 9,
   "id": "chubby-shell",
   "metadata": {},
   "outputs": [],
   "source": [
    "# Primero tenemos que elegir un nombre de trabajo de formación. \n",
    "# Esto es útil si queremos recordar información sobre nuestro trabajo de formación en una fecha posterior. \n",
    "# Tenga en cuenta que SageMaker requiere un nombre de trabajo de formación y que el nombre debe\n",
    "# ser único, lo que logramos agregando la marca de tiempo actual.\n",
    "training_job_name = \"boston-xgboost-\" + strftime(\"%Y-%m-%d-%H-%M-%S\", gmtime())\n",
    "training_params['TrainingJobName'] = training_job_name\n",
    "\n",
    "# Y ahora le pedimos a SageMaker que cree (y ejecute) el trabajo de entrenamiento\n",
    "training_job = session.sagemaker_client.create_training_job(**training_params)\n",
    "#El trabajo de entrenamiento ahora ha sido creado por SageMaker y se está ejecutando actualmente. \n",
    "# Dado que necesitamos el resultado del trabajo de entrenamiento, \n",
    "# es posible que deseemos esperar hasta que haya finalizado. \n",
    "#Podemos hacerlo pidiendo a SageMaker que genere los registros generados por el trabajo de entrenamiento \n",
    "#y continuar haciéndolo hasta que finalice el trabajo de entrenamiento.\n",
    "session.logs_for_job(training_job_name, wait=True)"
   ]
  },
  {
   "cell_type": "code",
   "execution_count": 11,
   "id": "printable-statement",
   "metadata": {},
   "outputs": [],
   "source": [
    "# Comenzamos pidiendo a SageMaker que nos describa los resultados del trabajo de entrenamiento\n",
    "training_job_info = session.sagemaker_client.describe_training_job(TrainingJobName=training_job_name)\n",
    "\n",
    "model_artifacts = training_job_info['ModelArtifacts']['S3ModelArtifacts']"
   ]
  },
  {
   "cell_type": "code",
   "execution_count": 13,
   "id": "scientific-metadata",
   "metadata": {},
   "outputs": [
    {
     "ename": "ClientError",
     "evalue": "An error occurred (ValidationException) when calling the CreateModel operation: Cannot create already existing model \"arn:aws:sagemaker:us-east-1:547289857603:model/boston-xgboost-2021-04-23-21-37-01-model\".",
     "output_type": "error",
     "traceback": [
      "\u001b[0;31m---------------------------------------------------------------------------\u001b[0m",
      "\u001b[0;31mClientError\u001b[0m                               Traceback (most recent call last)",
      "\u001b[0;32m<ipython-input-13-d248cfb46ba3>\u001b[0m in \u001b[0;36m<module>\u001b[0;34m\u001b[0m\n\u001b[1;32m     14\u001b[0m                                 \u001b[0mModelName\u001b[0m \u001b[0;34m=\u001b[0m \u001b[0mmodel_name\u001b[0m\u001b[0;34m,\u001b[0m\u001b[0;34m\u001b[0m\u001b[0;34m\u001b[0m\u001b[0m\n\u001b[1;32m     15\u001b[0m                                 \u001b[0mExecutionRoleArn\u001b[0m \u001b[0;34m=\u001b[0m \u001b[0mrole\u001b[0m\u001b[0;34m,\u001b[0m\u001b[0;34m\u001b[0m\u001b[0;34m\u001b[0m\u001b[0m\n\u001b[0;32m---> 16\u001b[0;31m                                 PrimaryContainer = primary_container)\n\u001b[0m",
      "\u001b[0;32m~/anaconda3/envs/python3/lib/python3.6/site-packages/botocore/client.py\u001b[0m in \u001b[0;36m_api_call\u001b[0;34m(self, *args, **kwargs)\u001b[0m\n\u001b[1;32m    355\u001b[0m                     \"%s() only accepts keyword arguments.\" % py_operation_name)\n\u001b[1;32m    356\u001b[0m             \u001b[0;31m# The \"self\" in this scope is referring to the BaseClient.\u001b[0m\u001b[0;34m\u001b[0m\u001b[0;34m\u001b[0m\u001b[0;34m\u001b[0m\u001b[0m\n\u001b[0;32m--> 357\u001b[0;31m             \u001b[0;32mreturn\u001b[0m \u001b[0mself\u001b[0m\u001b[0;34m.\u001b[0m\u001b[0m_make_api_call\u001b[0m\u001b[0;34m(\u001b[0m\u001b[0moperation_name\u001b[0m\u001b[0;34m,\u001b[0m \u001b[0mkwargs\u001b[0m\u001b[0;34m)\u001b[0m\u001b[0;34m\u001b[0m\u001b[0;34m\u001b[0m\u001b[0m\n\u001b[0m\u001b[1;32m    358\u001b[0m \u001b[0;34m\u001b[0m\u001b[0m\n\u001b[1;32m    359\u001b[0m         \u001b[0m_api_call\u001b[0m\u001b[0;34m.\u001b[0m\u001b[0m__name__\u001b[0m \u001b[0;34m=\u001b[0m \u001b[0mstr\u001b[0m\u001b[0;34m(\u001b[0m\u001b[0mpy_operation_name\u001b[0m\u001b[0;34m)\u001b[0m\u001b[0;34m\u001b[0m\u001b[0;34m\u001b[0m\u001b[0m\n",
      "\u001b[0;32m~/anaconda3/envs/python3/lib/python3.6/site-packages/botocore/client.py\u001b[0m in \u001b[0;36m_make_api_call\u001b[0;34m(self, operation_name, api_params)\u001b[0m\n\u001b[1;32m    674\u001b[0m             \u001b[0merror_code\u001b[0m \u001b[0;34m=\u001b[0m \u001b[0mparsed_response\u001b[0m\u001b[0;34m.\u001b[0m\u001b[0mget\u001b[0m\u001b[0;34m(\u001b[0m\u001b[0;34m\"Error\"\u001b[0m\u001b[0;34m,\u001b[0m \u001b[0;34m{\u001b[0m\u001b[0;34m}\u001b[0m\u001b[0;34m)\u001b[0m\u001b[0;34m.\u001b[0m\u001b[0mget\u001b[0m\u001b[0;34m(\u001b[0m\u001b[0;34m\"Code\"\u001b[0m\u001b[0;34m)\u001b[0m\u001b[0;34m\u001b[0m\u001b[0;34m\u001b[0m\u001b[0m\n\u001b[1;32m    675\u001b[0m             \u001b[0merror_class\u001b[0m \u001b[0;34m=\u001b[0m \u001b[0mself\u001b[0m\u001b[0;34m.\u001b[0m\u001b[0mexceptions\u001b[0m\u001b[0;34m.\u001b[0m\u001b[0mfrom_code\u001b[0m\u001b[0;34m(\u001b[0m\u001b[0merror_code\u001b[0m\u001b[0;34m)\u001b[0m\u001b[0;34m\u001b[0m\u001b[0;34m\u001b[0m\u001b[0m\n\u001b[0;32m--> 676\u001b[0;31m             \u001b[0;32mraise\u001b[0m \u001b[0merror_class\u001b[0m\u001b[0;34m(\u001b[0m\u001b[0mparsed_response\u001b[0m\u001b[0;34m,\u001b[0m \u001b[0moperation_name\u001b[0m\u001b[0;34m)\u001b[0m\u001b[0;34m\u001b[0m\u001b[0;34m\u001b[0m\u001b[0m\n\u001b[0m\u001b[1;32m    677\u001b[0m         \u001b[0;32melse\u001b[0m\u001b[0;34m:\u001b[0m\u001b[0;34m\u001b[0m\u001b[0;34m\u001b[0m\u001b[0m\n\u001b[1;32m    678\u001b[0m             \u001b[0;32mreturn\u001b[0m \u001b[0mparsed_response\u001b[0m\u001b[0;34m\u001b[0m\u001b[0;34m\u001b[0m\u001b[0m\n",
      "\u001b[0;31mClientError\u001b[0m: An error occurred (ValidationException) when calling the CreateModel operation: Cannot create already existing model \"arn:aws:sagemaker:us-east-1:547289857603:model/boston-xgboost-2021-04-23-21-37-01-model\"."
     ]
    }
   ],
   "source": [
    "# Al igual que cuando creamos un trabajo de entrenamiento, el nombre del modelo debe ser único\n",
    "model_name = training_job_name + \"-model\"\n",
    "\n",
    "# También necesitamos decirle a SageMaker qué contenedor debe usarse para la inferencia y dónde debe\n",
    "# recuperar los artefactos del modelo. En nuestro caso, el contenedor xgboost que usamos para entrenar\n",
    "# también se puede utilizar para inferencias.\n",
    "primary_container = {\n",
    "    \"Image\": container,\n",
    "    \"ModelDataUrl\": model_artifacts\n",
    "}\n",
    "\n",
    "# Y por último construimos el modelo SageMaker\n",
    "model_info = session.sagemaker_client.create_model(\n",
    "                                ModelName = model_name,\n",
    "                                ExecutionRoleArn = role,\n",
    "                                PrimaryContainer = primary_container)"
   ]
  },
  {
   "cell_type": "markdown",
   "id": "advance-apache",
   "metadata": {},
   "source": [
    "## Paso 5: Probar el modelo\n",
    "\n",
    "Ahora que hemos ajustado nuestro modelo a los datos de entrenamiento, utilizando los datos de validación para evitar el sobreajuste, podemos probar nuestro modelo. Para hacer esto, haremos uso de la funcionalidad Batch Transform de SageMaker. En otras palabras, necesitamos configurar y ejecutar un trabajo de transformación por lotes, similar a la forma en que construimos el trabajo de entrenamiento anteriormente.\n",
    "\n",
    "### Configurar el trabajo de transformación por lotes\n",
    "\n",
    "Al igual que cuando estábamos entrenando nuestro modelo, primero necesitamos proporcionar cierta información en forma de una estructura de datos que describa el trabajo de transformación por lotes que deseamos ejecutar.\n",
    "\n",
    "Solo usaremos algunas de las opciones disponibles aquí, pero para ver algunas de las opciones adicionales, consulte la documentación de SageMaker para [crear un trabajo de transformación por lotes] (https://docs.aws.amazon.com/sagemaker/latest/dg /API_CreateTransformJob.html)."
   ]
  },
  {
   "cell_type": "code",
   "execution_count": 17,
   "id": "confused-generator",
   "metadata": {},
   "outputs": [],
   "source": [
    "# el nombre del trabajo debe ser único y usamos la misma lógica que utilizamos anteriormente\n",
    "transform_job_name = 'boston-xgboost-batch-transform-' + strftime(\"%Y-%m-%d-%H-%M-%S\", gmtime())\n",
    "\n",
    "# Ahora construimos la estructura de datos que describirá el trabajo de transformación por lotes.\n",
    "transform_request = \\\n",
    "{\n",
    "    \"TransformJobName\": transform_job_name,\n",
    "    \n",
    "    # Este es el nombre del modelo que creamos anteriormente.\n",
    "    \"ModelName\": model_name,\n",
    "    \n",
    "     # Esto describe cuántas instancias de cómputo deben usarse a la vez. Si está haciendo \n",
    "     # un buen trabajo  de transformación por lotes, puede valer la pena ejecutar varias instancias a la vez.\n",
    "    \"MaxConcurrentTransforms\": 1,\n",
    "    \n",
    "     # Esto indica el tamaño que debe tener cada solicitud individual enviada al modelo, como máximo.\n",
    "     # Una de las cosas que SageMaker en segundo plano es dividir nuestros datos en trozos para que \n",
    "     # cada trozo permanezca debajo este límite de tamaño.\n",
    "    \"MaxPayloadInMB\": 6,\n",
    "    \n",
    "    # A veces, es posible que deseemos enviar solo una muestra a nuestro punto final a la vez, sin embargo, \n",
    "    # en este caso, cada fragmento que enviamos deben contener múltiples muestras de nuestros datos de entrada.\n",
    "    \"BatchStrategy\": \"MultiRecord\",\n",
    "    \n",
    "    # Este siguiente objeto describe dónde se deben almacenar los datos de salida. Algunas de las opciones más avanzadas que\n",
    "     # que no cubrimos aquí también describe cómo SageMaker debería recopilar la salida de varios lotes..\n",
    "    \"TransformOutput\": {\n",
    "        \"S3OutputPath\": \"s3://{}/{}/batch-bransform/\".format(session.default_bucket(),prefix)\n",
    "    },\n",
    "    \n",
    "     # Aquí describimos nuestros datos de entrada. Por supuesto, necesitamos decirle a SageMaker dónde en S3 se almacenan nuestros datos de entrada, en\n",
    "     # Además, necesitamos detallar las características de nuestros datos de entrada. En particular, dado que SageMaker puede necesitar\n",
    "     # dividir nuestros datos en trozos, necesita saber cómo aparecen las muestras individuales en nuestro archivo de datos. En nuestro\n",
    "     # caso de que cada línea sea su propia muestra, por lo que establecemos el tipo de división en 'línea'. También necesitamos decirle a SageMaker qué\n",
    "     # tipo de datos que se están enviando, en este caso csv, para que pueda serializar correctamente los datos.\n",
    "    \"TransformInput\": {\n",
    "        \"ContentType\": \"text/csv\",\n",
    "        \"SplitType\": \"Line\",\n",
    "        \"DataSource\": {\n",
    "            \"S3DataSource\": {\n",
    "                \"S3DataType\": \"S3Prefix\",\n",
    "                \"S3Uri\": test_location,\n",
    "            }\n",
    "        }\n",
    "    },\n",
    "    \n",
    "    # Y, por último, le decimos a SageMaker qué tipo de instancia informática nos gustaría que utilizara.\n",
    "    \"TransformResources\": {\n",
    "            \"InstanceType\": \"ml.m4.xlarge\",\n",
    "            \"InstanceCount\": 1\n",
    "    }\n",
    "}"
   ]
  },
  {
   "cell_type": "markdown",
   "id": "finished-monroe",
   "metadata": {},
   "source": [
    "### Ejecutar el trabajo de transformación por lotes\n",
    "\n",
    "Ahora que hemos creado la estructura de datos de la solicitud, es hora de pedirle a SageMaker que configure y ejecute nuestro trabajo de transformación por lotes. Al igual que en los pasos anteriores, SageMaker realiza estas tareas en segundo plano, de modo que si queremos esperar a que termine el trabajo de transformación (y asegurarnos de que el trabajo está progresando), podemos pedirle a SageMaker que espere a que se complete el trabajo de transformación."
   ]
  },
  {
   "cell_type": "code",
   "execution_count": 18,
   "id": "empty-attempt",
   "metadata": {},
   "outputs": [],
   "source": [
    "transform_response = session.sagemaker_client.create_transform_job(**transform_request)"
   ]
  },
  {
   "cell_type": "code",
   "execution_count": 19,
   "id": "integral-starter",
   "metadata": {},
   "outputs": [
    {
     "name": "stdout",
     "output_type": "stream",
     "text": [
      "...........................................................!\n"
     ]
    }
   ],
   "source": [
    "transform_desc = session.wait_for_transform_job(transform_job_name)"
   ]
  },
  {
   "cell_type": "markdown",
   "id": "breeding-cement",
   "metadata": {},
   "source": [
    "### Analiza los resultados\n",
    "\n",
    "Ahora que el trabajo de transformación se ha completado, los resultados se almacenan en S3 como lo solicitamos. Como nos gustaría hacer un poco de análisis local, copiamos la salida resultante de S3 y la guardamos \"localmente\" en la\n",
    "instancia del notebook, específicamente en el directorio data/boston que hemos creado para almacenar datos.\n",
    "Si queremos descargarla en local de nuestro equipo, debemos hacerlo usando el comando download de jupyter"
   ]
  },
  {
   "cell_type": "code",
   "execution_count": 21,
   "id": "medium-sheffield",
   "metadata": {},
   "outputs": [],
   "source": [
    "transform_output = \"s3://{}/{}/batch-bransform/\".format(session.default_bucket(),prefix)"
   ]
  },
  {
   "cell_type": "code",
   "execution_count": 23,
   "id": "checked-penalty",
   "metadata": {},
   "outputs": [
    {
     "name": "stdout",
     "output_type": "stream",
     "text": [
      "Completed 3.0 KiB/3.0 KiB (43.0 KiB/s) with 1 file(s) remaining\r",
      "download: s3://sagemaker-us-east-1-547289857603/boston-xgboost-HL/batch-bransform/test.csv.out to ../data/boston/test.csv.out\r\n"
     ]
    }
   ],
   "source": [
    "!aws s3 cp --recursive $transform_output $data_dir"
   ]
  },
  {
   "cell_type": "markdown",
   "id": "humanitarian-tracy",
   "metadata": {},
   "source": [
    "Para ver qué tan bien funciona nuestro modelo, podemos crear un diagrama de dispersión simple entre los valores predichos y reales. Si el modelo fuera completamente preciso, el diagrama de dispersión resultante se vería como la línea $ x = y $. Como podemos ver, nuestro modelo parece haber funcionado bien, pero hay margen de mejora."
   ]
  },
  {
   "cell_type": "code",
   "execution_count": 24,
   "id": "amazing-township",
   "metadata": {},
   "outputs": [],
   "source": [
    "Y_pred = pd.read_csv(os.path.join(data_dir, 'test.csv.out'), header=None)"
   ]
  },
  {
   "cell_type": "code",
   "execution_count": 25,
   "id": "stable-consideration",
   "metadata": {},
   "outputs": [
    {
     "data": {
      "text/plain": [
       "Text(0.5, 1.0, 'Median Price vs Predicted Price')"
      ]
     },
     "execution_count": 25,
     "metadata": {},
     "output_type": "execute_result"
    },
    {
     "data": {
      "image/png": "[encoded data removed]",
      "text/plain": [
       "<Figure size 432x288 with 1 Axes>"
      ]
     },
     "metadata": {
      "needs_background": "light"
     },
     "output_type": "display_data"
    }
   ],
   "source": [
    "plt.scatter(Y_test, Y_pred)\n",
    "plt.xlabel(\"Median Price\")\n",
    "plt.ylabel(\"Predicted Price\")\n",
    "plt.title(\"Median Price vs Predicted Price\")"
   ]
  },
  {
   "cell_type": "markdown",
   "id": "committed-eight",
   "metadata": {},
   "source": [
    "## Opcional: Limpiar\n",
    "\n",
    "La instancia de portátil predeterminada en SageMaker no tiene mucho espacio disponible en disco. A medida que continúe completando y ejecutando cuadernos, eventualmente llenará este espacio en el disco, lo que generará errores que pueden ser difíciles de diagnosticar. Una vez que haya terminado de usar un cuaderno, es una buena idea eliminar los archivos que creó durante el proceso. Por supuesto, puede hacerlo desde el terminal o desde el concentrador del portátil si lo desea. La celda a continuación contiene algunos comandos para limpiar los archivos creados desde dentro del cuaderno."
   ]
  },
  {
   "cell_type": "code",
   "execution_count": 26,
   "id": "reliable-blind",
   "metadata": {},
   "outputs": [],
   "source": [
    "# First we will remove all of the files contained in the data_dir directory\n",
    "!rm $data_dir/*\n",
    "\n",
    "# And then we delete the directory itself\n",
    "!rmdir $data_dir"
   ]
  }
 ],
 "metadata": {
  "kernelspec": {
   "display_name": "conda_python3",
   "language": "python",
   "name": "conda_python3"
  },
  "language_info": {
   "codemirror_mode": {
    "name": "ipython",
    "version": 3
   },
   "file_extension": ".py",
   "mimetype": "text/x-python",
   "name": "python",
   "nbconvert_exporter": "python",
   "pygments_lexer": "ipython3",
   "version": "3.6.13"
  }
 },
 "nbformat": 4,
 "nbformat_minor": 5
}
